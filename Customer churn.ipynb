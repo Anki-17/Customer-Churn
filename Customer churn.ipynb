{
 "cells": [
  {
   "cell_type": "code",
   "execution_count": 1,
   "id": "dd478e76",
   "metadata": {},
   "outputs": [],
   "source": [
    "import pandas as pd\n",
    "import numpy as np\n",
    "import matplotlib.pyplot as plt\n",
    "import seaborn as sns\n",
    "%matplotlib inline"
   ]
  },
  {
   "cell_type": "code",
   "execution_count": 2,
   "id": "4bb2b8da",
   "metadata": {},
   "outputs": [],
   "source": [
    " df = pd.read_csv(\"Churn.csv\") #Loading the datafile"
   ]
  },
  {
   "cell_type": "markdown",
   "id": "3769e9f4",
   "metadata": {},
   "source": [
    "* Loading the data"
   ]
  },
  {
   "cell_type": "code",
   "execution_count": 3,
   "id": "90d3f804",
   "metadata": {
    "scrolled": true
   },
   "outputs": [
    {
     "data": {
      "text/html": [
       "<div>\n",
       "<style scoped>\n",
       "    .dataframe tbody tr th:only-of-type {\n",
       "        vertical-align: middle;\n",
       "    }\n",
       "\n",
       "    .dataframe tbody tr th {\n",
       "        vertical-align: top;\n",
       "    }\n",
       "\n",
       "    .dataframe thead th {\n",
       "        text-align: right;\n",
       "    }\n",
       "</style>\n",
       "<table border=\"1\" class=\"dataframe\">\n",
       "  <thead>\n",
       "    <tr style=\"text-align: right;\">\n",
       "      <th></th>\n",
       "      <th>Unnamed: 0</th>\n",
       "      <th>state</th>\n",
       "      <th>area.code</th>\n",
       "      <th>account.length</th>\n",
       "      <th>voice.plan</th>\n",
       "      <th>voice.messages</th>\n",
       "      <th>intl.plan</th>\n",
       "      <th>intl.mins</th>\n",
       "      <th>intl.calls</th>\n",
       "      <th>intl.charge</th>\n",
       "      <th>...</th>\n",
       "      <th>day.calls</th>\n",
       "      <th>day.charge</th>\n",
       "      <th>eve.mins</th>\n",
       "      <th>eve.calls</th>\n",
       "      <th>eve.charge</th>\n",
       "      <th>night.mins</th>\n",
       "      <th>night.calls</th>\n",
       "      <th>night.charge</th>\n",
       "      <th>customer.calls</th>\n",
       "      <th>churn</th>\n",
       "    </tr>\n",
       "  </thead>\n",
       "  <tbody>\n",
       "    <tr>\n",
       "      <th>0</th>\n",
       "      <td>1</td>\n",
       "      <td>KS</td>\n",
       "      <td>area_code_415</td>\n",
       "      <td>128</td>\n",
       "      <td>yes</td>\n",
       "      <td>25</td>\n",
       "      <td>no</td>\n",
       "      <td>10.0</td>\n",
       "      <td>3</td>\n",
       "      <td>2.70</td>\n",
       "      <td>...</td>\n",
       "      <td>110</td>\n",
       "      <td>45.07</td>\n",
       "      <td>197.4</td>\n",
       "      <td>99</td>\n",
       "      <td>16.78</td>\n",
       "      <td>244.7</td>\n",
       "      <td>91</td>\n",
       "      <td>11.01</td>\n",
       "      <td>1</td>\n",
       "      <td>no</td>\n",
       "    </tr>\n",
       "    <tr>\n",
       "      <th>1</th>\n",
       "      <td>2</td>\n",
       "      <td>OH</td>\n",
       "      <td>area_code_415</td>\n",
       "      <td>107</td>\n",
       "      <td>yes</td>\n",
       "      <td>26</td>\n",
       "      <td>no</td>\n",
       "      <td>13.7</td>\n",
       "      <td>3</td>\n",
       "      <td>3.70</td>\n",
       "      <td>...</td>\n",
       "      <td>123</td>\n",
       "      <td>27.47</td>\n",
       "      <td>195.5</td>\n",
       "      <td>103</td>\n",
       "      <td>16.62</td>\n",
       "      <td>254.4</td>\n",
       "      <td>103</td>\n",
       "      <td>11.45</td>\n",
       "      <td>1</td>\n",
       "      <td>no</td>\n",
       "    </tr>\n",
       "    <tr>\n",
       "      <th>2</th>\n",
       "      <td>3</td>\n",
       "      <td>NJ</td>\n",
       "      <td>area_code_415</td>\n",
       "      <td>137</td>\n",
       "      <td>no</td>\n",
       "      <td>0</td>\n",
       "      <td>no</td>\n",
       "      <td>12.2</td>\n",
       "      <td>5</td>\n",
       "      <td>3.29</td>\n",
       "      <td>...</td>\n",
       "      <td>114</td>\n",
       "      <td>41.38</td>\n",
       "      <td>121.2</td>\n",
       "      <td>110</td>\n",
       "      <td>10.30</td>\n",
       "      <td>162.6</td>\n",
       "      <td>104</td>\n",
       "      <td>7.32</td>\n",
       "      <td>0</td>\n",
       "      <td>no</td>\n",
       "    </tr>\n",
       "    <tr>\n",
       "      <th>3</th>\n",
       "      <td>4</td>\n",
       "      <td>OH</td>\n",
       "      <td>area_code_408</td>\n",
       "      <td>84</td>\n",
       "      <td>no</td>\n",
       "      <td>0</td>\n",
       "      <td>yes</td>\n",
       "      <td>6.6</td>\n",
       "      <td>7</td>\n",
       "      <td>1.78</td>\n",
       "      <td>...</td>\n",
       "      <td>71</td>\n",
       "      <td>50.9</td>\n",
       "      <td>61.9</td>\n",
       "      <td>88</td>\n",
       "      <td>5.26</td>\n",
       "      <td>196.9</td>\n",
       "      <td>89</td>\n",
       "      <td>8.86</td>\n",
       "      <td>2</td>\n",
       "      <td>no</td>\n",
       "    </tr>\n",
       "    <tr>\n",
       "      <th>4</th>\n",
       "      <td>5</td>\n",
       "      <td>OK</td>\n",
       "      <td>area_code_415</td>\n",
       "      <td>75</td>\n",
       "      <td>no</td>\n",
       "      <td>0</td>\n",
       "      <td>yes</td>\n",
       "      <td>10.1</td>\n",
       "      <td>3</td>\n",
       "      <td>2.73</td>\n",
       "      <td>...</td>\n",
       "      <td>113</td>\n",
       "      <td>28.34</td>\n",
       "      <td>148.3</td>\n",
       "      <td>122</td>\n",
       "      <td>12.61</td>\n",
       "      <td>186.9</td>\n",
       "      <td>121</td>\n",
       "      <td>8.41</td>\n",
       "      <td>3</td>\n",
       "      <td>no</td>\n",
       "    </tr>\n",
       "    <tr>\n",
       "      <th>...</th>\n",
       "      <td>...</td>\n",
       "      <td>...</td>\n",
       "      <td>...</td>\n",
       "      <td>...</td>\n",
       "      <td>...</td>\n",
       "      <td>...</td>\n",
       "      <td>...</td>\n",
       "      <td>...</td>\n",
       "      <td>...</td>\n",
       "      <td>...</td>\n",
       "      <td>...</td>\n",
       "      <td>...</td>\n",
       "      <td>...</td>\n",
       "      <td>...</td>\n",
       "      <td>...</td>\n",
       "      <td>...</td>\n",
       "      <td>...</td>\n",
       "      <td>...</td>\n",
       "      <td>...</td>\n",
       "      <td>...</td>\n",
       "      <td>...</td>\n",
       "    </tr>\n",
       "    <tr>\n",
       "      <th>4995</th>\n",
       "      <td>4996</td>\n",
       "      <td>HI</td>\n",
       "      <td>area_code_408</td>\n",
       "      <td>50</td>\n",
       "      <td>yes</td>\n",
       "      <td>40</td>\n",
       "      <td>no</td>\n",
       "      <td>9.9</td>\n",
       "      <td>5</td>\n",
       "      <td>2.67</td>\n",
       "      <td>...</td>\n",
       "      <td>127</td>\n",
       "      <td>40.07</td>\n",
       "      <td>223</td>\n",
       "      <td>126</td>\n",
       "      <td>18.96</td>\n",
       "      <td>297.5</td>\n",
       "      <td>116</td>\n",
       "      <td>13.39</td>\n",
       "      <td>2</td>\n",
       "      <td>no</td>\n",
       "    </tr>\n",
       "    <tr>\n",
       "      <th>4996</th>\n",
       "      <td>4997</td>\n",
       "      <td>WV</td>\n",
       "      <td>area_code_415</td>\n",
       "      <td>152</td>\n",
       "      <td>no</td>\n",
       "      <td>0</td>\n",
       "      <td>no</td>\n",
       "      <td>14.7</td>\n",
       "      <td>2</td>\n",
       "      <td>3.97</td>\n",
       "      <td>...</td>\n",
       "      <td>90</td>\n",
       "      <td>31.31</td>\n",
       "      <td>256.8</td>\n",
       "      <td>73</td>\n",
       "      <td>21.83</td>\n",
       "      <td>213.6</td>\n",
       "      <td>113</td>\n",
       "      <td>9.61</td>\n",
       "      <td>3</td>\n",
       "      <td>yes</td>\n",
       "    </tr>\n",
       "    <tr>\n",
       "      <th>4997</th>\n",
       "      <td>4998</td>\n",
       "      <td>DC</td>\n",
       "      <td>area_code_415</td>\n",
       "      <td>61</td>\n",
       "      <td>no</td>\n",
       "      <td>0</td>\n",
       "      <td>no</td>\n",
       "      <td>13.6</td>\n",
       "      <td>4</td>\n",
       "      <td>3.67</td>\n",
       "      <td>...</td>\n",
       "      <td>89</td>\n",
       "      <td>23.9</td>\n",
       "      <td>172.8</td>\n",
       "      <td>128</td>\n",
       "      <td>14.69</td>\n",
       "      <td>212.4</td>\n",
       "      <td>97</td>\n",
       "      <td>9.56</td>\n",
       "      <td>1</td>\n",
       "      <td>no</td>\n",
       "    </tr>\n",
       "    <tr>\n",
       "      <th>4998</th>\n",
       "      <td>4999</td>\n",
       "      <td>DC</td>\n",
       "      <td>area_code_510</td>\n",
       "      <td>109</td>\n",
       "      <td>no</td>\n",
       "      <td>0</td>\n",
       "      <td>no</td>\n",
       "      <td>8.5</td>\n",
       "      <td>6</td>\n",
       "      <td>2.30</td>\n",
       "      <td>...</td>\n",
       "      <td>67</td>\n",
       "      <td>32.1</td>\n",
       "      <td>171.7</td>\n",
       "      <td>92</td>\n",
       "      <td>14.59</td>\n",
       "      <td>224.4</td>\n",
       "      <td>89</td>\n",
       "      <td>10.10</td>\n",
       "      <td>0</td>\n",
       "      <td>no</td>\n",
       "    </tr>\n",
       "    <tr>\n",
       "      <th>4999</th>\n",
       "      <td>5000</td>\n",
       "      <td>VT</td>\n",
       "      <td>area_code_415</td>\n",
       "      <td>86</td>\n",
       "      <td>yes</td>\n",
       "      <td>34</td>\n",
       "      <td>no</td>\n",
       "      <td>9.3</td>\n",
       "      <td>16</td>\n",
       "      <td>2.51</td>\n",
       "      <td>...</td>\n",
       "      <td>102</td>\n",
       "      <td>22</td>\n",
       "      <td>267.1</td>\n",
       "      <td>104</td>\n",
       "      <td>22.70</td>\n",
       "      <td>154.8</td>\n",
       "      <td>100</td>\n",
       "      <td>6.97</td>\n",
       "      <td>0</td>\n",
       "      <td>no</td>\n",
       "    </tr>\n",
       "  </tbody>\n",
       "</table>\n",
       "<p>5000 rows × 21 columns</p>\n",
       "</div>"
      ],
      "text/plain": [
       "      Unnamed: 0 state      area.code  account.length voice.plan  \\\n",
       "0              1    KS  area_code_415             128        yes   \n",
       "1              2    OH  area_code_415             107        yes   \n",
       "2              3    NJ  area_code_415             137         no   \n",
       "3              4    OH  area_code_408              84         no   \n",
       "4              5    OK  area_code_415              75         no   \n",
       "...          ...   ...            ...             ...        ...   \n",
       "4995        4996    HI  area_code_408              50        yes   \n",
       "4996        4997    WV  area_code_415             152         no   \n",
       "4997        4998    DC  area_code_415              61         no   \n",
       "4998        4999    DC  area_code_510             109         no   \n",
       "4999        5000    VT  area_code_415              86        yes   \n",
       "\n",
       "      voice.messages intl.plan  intl.mins  intl.calls  intl.charge  ...  \\\n",
       "0                 25        no       10.0           3         2.70  ...   \n",
       "1                 26        no       13.7           3         3.70  ...   \n",
       "2                  0        no       12.2           5         3.29  ...   \n",
       "3                  0       yes        6.6           7         1.78  ...   \n",
       "4                  0       yes       10.1           3         2.73  ...   \n",
       "...              ...       ...        ...         ...          ...  ...   \n",
       "4995              40        no        9.9           5         2.67  ...   \n",
       "4996               0        no       14.7           2         3.97  ...   \n",
       "4997               0        no       13.6           4         3.67  ...   \n",
       "4998               0        no        8.5           6         2.30  ...   \n",
       "4999              34        no        9.3          16         2.51  ...   \n",
       "\n",
       "      day.calls  day.charge eve.mins eve.calls  eve.charge  night.mins  \\\n",
       "0           110       45.07    197.4        99       16.78       244.7   \n",
       "1           123       27.47    195.5       103       16.62       254.4   \n",
       "2           114       41.38    121.2       110       10.30       162.6   \n",
       "3            71        50.9     61.9        88        5.26       196.9   \n",
       "4           113       28.34    148.3       122       12.61       186.9   \n",
       "...         ...         ...      ...       ...         ...         ...   \n",
       "4995        127       40.07      223       126       18.96       297.5   \n",
       "4996         90       31.31    256.8        73       21.83       213.6   \n",
       "4997         89        23.9    172.8       128       14.69       212.4   \n",
       "4998         67        32.1    171.7        92       14.59       224.4   \n",
       "4999        102          22    267.1       104       22.70       154.8   \n",
       "\n",
       "      night.calls  night.charge  customer.calls  churn  \n",
       "0              91         11.01               1     no  \n",
       "1             103         11.45               1     no  \n",
       "2             104          7.32               0     no  \n",
       "3              89          8.86               2     no  \n",
       "4             121          8.41               3     no  \n",
       "...           ...           ...             ...    ...  \n",
       "4995          116         13.39               2     no  \n",
       "4996          113          9.61               3    yes  \n",
       "4997           97          9.56               1     no  \n",
       "4998           89         10.10               0     no  \n",
       "4999          100          6.97               0     no  \n",
       "\n",
       "[5000 rows x 21 columns]"
      ]
     },
     "execution_count": 3,
     "metadata": {},
     "output_type": "execute_result"
    }
   ],
   "source": [
    "df"
   ]
  },
  {
   "cell_type": "code",
   "execution_count": 4,
   "id": "3dc4c325",
   "metadata": {
    "scrolled": true
   },
   "outputs": [],
   "source": [
    "df = df.drop(columns = [\"Unnamed: 0\",\"account.length\"])"
   ]
  },
  {
   "cell_type": "markdown",
   "id": "20e8741f",
   "metadata": {},
   "source": [
    "* Dropping the Unnammed column as it is not required"
   ]
  },
  {
   "cell_type": "code",
   "execution_count": 5,
   "id": "a67e9398",
   "metadata": {},
   "outputs": [
    {
     "data": {
      "text/html": [
       "<div>\n",
       "<style scoped>\n",
       "    .dataframe tbody tr th:only-of-type {\n",
       "        vertical-align: middle;\n",
       "    }\n",
       "\n",
       "    .dataframe tbody tr th {\n",
       "        vertical-align: top;\n",
       "    }\n",
       "\n",
       "    .dataframe thead th {\n",
       "        text-align: right;\n",
       "    }\n",
       "</style>\n",
       "<table border=\"1\" class=\"dataframe\">\n",
       "  <thead>\n",
       "    <tr style=\"text-align: right;\">\n",
       "      <th></th>\n",
       "      <th>state</th>\n",
       "      <th>area.code</th>\n",
       "      <th>voice.plan</th>\n",
       "      <th>voice.messages</th>\n",
       "      <th>intl.plan</th>\n",
       "      <th>intl.mins</th>\n",
       "      <th>intl.calls</th>\n",
       "      <th>intl.charge</th>\n",
       "      <th>day.mins</th>\n",
       "      <th>day.calls</th>\n",
       "      <th>day.charge</th>\n",
       "      <th>eve.mins</th>\n",
       "      <th>eve.calls</th>\n",
       "      <th>eve.charge</th>\n",
       "      <th>night.mins</th>\n",
       "      <th>night.calls</th>\n",
       "      <th>night.charge</th>\n",
       "      <th>customer.calls</th>\n",
       "      <th>churn</th>\n",
       "    </tr>\n",
       "  </thead>\n",
       "  <tbody>\n",
       "    <tr>\n",
       "      <th>0</th>\n",
       "      <td>KS</td>\n",
       "      <td>area_code_415</td>\n",
       "      <td>yes</td>\n",
       "      <td>25</td>\n",
       "      <td>no</td>\n",
       "      <td>10.0</td>\n",
       "      <td>3</td>\n",
       "      <td>2.70</td>\n",
       "      <td>265.1</td>\n",
       "      <td>110</td>\n",
       "      <td>45.07</td>\n",
       "      <td>197.4</td>\n",
       "      <td>99</td>\n",
       "      <td>16.78</td>\n",
       "      <td>244.7</td>\n",
       "      <td>91</td>\n",
       "      <td>11.01</td>\n",
       "      <td>1</td>\n",
       "      <td>no</td>\n",
       "    </tr>\n",
       "    <tr>\n",
       "      <th>1</th>\n",
       "      <td>OH</td>\n",
       "      <td>area_code_415</td>\n",
       "      <td>yes</td>\n",
       "      <td>26</td>\n",
       "      <td>no</td>\n",
       "      <td>13.7</td>\n",
       "      <td>3</td>\n",
       "      <td>3.70</td>\n",
       "      <td>161.6</td>\n",
       "      <td>123</td>\n",
       "      <td>27.47</td>\n",
       "      <td>195.5</td>\n",
       "      <td>103</td>\n",
       "      <td>16.62</td>\n",
       "      <td>254.4</td>\n",
       "      <td>103</td>\n",
       "      <td>11.45</td>\n",
       "      <td>1</td>\n",
       "      <td>no</td>\n",
       "    </tr>\n",
       "    <tr>\n",
       "      <th>2</th>\n",
       "      <td>NJ</td>\n",
       "      <td>area_code_415</td>\n",
       "      <td>no</td>\n",
       "      <td>0</td>\n",
       "      <td>no</td>\n",
       "      <td>12.2</td>\n",
       "      <td>5</td>\n",
       "      <td>3.29</td>\n",
       "      <td>243.4</td>\n",
       "      <td>114</td>\n",
       "      <td>41.38</td>\n",
       "      <td>121.2</td>\n",
       "      <td>110</td>\n",
       "      <td>10.30</td>\n",
       "      <td>162.6</td>\n",
       "      <td>104</td>\n",
       "      <td>7.32</td>\n",
       "      <td>0</td>\n",
       "      <td>no</td>\n",
       "    </tr>\n",
       "    <tr>\n",
       "      <th>3</th>\n",
       "      <td>OH</td>\n",
       "      <td>area_code_408</td>\n",
       "      <td>no</td>\n",
       "      <td>0</td>\n",
       "      <td>yes</td>\n",
       "      <td>6.6</td>\n",
       "      <td>7</td>\n",
       "      <td>1.78</td>\n",
       "      <td>299.4</td>\n",
       "      <td>71</td>\n",
       "      <td>50.9</td>\n",
       "      <td>61.9</td>\n",
       "      <td>88</td>\n",
       "      <td>5.26</td>\n",
       "      <td>196.9</td>\n",
       "      <td>89</td>\n",
       "      <td>8.86</td>\n",
       "      <td>2</td>\n",
       "      <td>no</td>\n",
       "    </tr>\n",
       "    <tr>\n",
       "      <th>4</th>\n",
       "      <td>OK</td>\n",
       "      <td>area_code_415</td>\n",
       "      <td>no</td>\n",
       "      <td>0</td>\n",
       "      <td>yes</td>\n",
       "      <td>10.1</td>\n",
       "      <td>3</td>\n",
       "      <td>2.73</td>\n",
       "      <td>166.7</td>\n",
       "      <td>113</td>\n",
       "      <td>28.34</td>\n",
       "      <td>148.3</td>\n",
       "      <td>122</td>\n",
       "      <td>12.61</td>\n",
       "      <td>186.9</td>\n",
       "      <td>121</td>\n",
       "      <td>8.41</td>\n",
       "      <td>3</td>\n",
       "      <td>no</td>\n",
       "    </tr>\n",
       "    <tr>\n",
       "      <th>...</th>\n",
       "      <td>...</td>\n",
       "      <td>...</td>\n",
       "      <td>...</td>\n",
       "      <td>...</td>\n",
       "      <td>...</td>\n",
       "      <td>...</td>\n",
       "      <td>...</td>\n",
       "      <td>...</td>\n",
       "      <td>...</td>\n",
       "      <td>...</td>\n",
       "      <td>...</td>\n",
       "      <td>...</td>\n",
       "      <td>...</td>\n",
       "      <td>...</td>\n",
       "      <td>...</td>\n",
       "      <td>...</td>\n",
       "      <td>...</td>\n",
       "      <td>...</td>\n",
       "      <td>...</td>\n",
       "    </tr>\n",
       "    <tr>\n",
       "      <th>4995</th>\n",
       "      <td>HI</td>\n",
       "      <td>area_code_408</td>\n",
       "      <td>yes</td>\n",
       "      <td>40</td>\n",
       "      <td>no</td>\n",
       "      <td>9.9</td>\n",
       "      <td>5</td>\n",
       "      <td>2.67</td>\n",
       "      <td>235.7</td>\n",
       "      <td>127</td>\n",
       "      <td>40.07</td>\n",
       "      <td>223</td>\n",
       "      <td>126</td>\n",
       "      <td>18.96</td>\n",
       "      <td>297.5</td>\n",
       "      <td>116</td>\n",
       "      <td>13.39</td>\n",
       "      <td>2</td>\n",
       "      <td>no</td>\n",
       "    </tr>\n",
       "    <tr>\n",
       "      <th>4996</th>\n",
       "      <td>WV</td>\n",
       "      <td>area_code_415</td>\n",
       "      <td>no</td>\n",
       "      <td>0</td>\n",
       "      <td>no</td>\n",
       "      <td>14.7</td>\n",
       "      <td>2</td>\n",
       "      <td>3.97</td>\n",
       "      <td>184.2</td>\n",
       "      <td>90</td>\n",
       "      <td>31.31</td>\n",
       "      <td>256.8</td>\n",
       "      <td>73</td>\n",
       "      <td>21.83</td>\n",
       "      <td>213.6</td>\n",
       "      <td>113</td>\n",
       "      <td>9.61</td>\n",
       "      <td>3</td>\n",
       "      <td>yes</td>\n",
       "    </tr>\n",
       "    <tr>\n",
       "      <th>4997</th>\n",
       "      <td>DC</td>\n",
       "      <td>area_code_415</td>\n",
       "      <td>no</td>\n",
       "      <td>0</td>\n",
       "      <td>no</td>\n",
       "      <td>13.6</td>\n",
       "      <td>4</td>\n",
       "      <td>3.67</td>\n",
       "      <td>140.6</td>\n",
       "      <td>89</td>\n",
       "      <td>23.9</td>\n",
       "      <td>172.8</td>\n",
       "      <td>128</td>\n",
       "      <td>14.69</td>\n",
       "      <td>212.4</td>\n",
       "      <td>97</td>\n",
       "      <td>9.56</td>\n",
       "      <td>1</td>\n",
       "      <td>no</td>\n",
       "    </tr>\n",
       "    <tr>\n",
       "      <th>4998</th>\n",
       "      <td>DC</td>\n",
       "      <td>area_code_510</td>\n",
       "      <td>no</td>\n",
       "      <td>0</td>\n",
       "      <td>no</td>\n",
       "      <td>8.5</td>\n",
       "      <td>6</td>\n",
       "      <td>2.30</td>\n",
       "      <td>188.8</td>\n",
       "      <td>67</td>\n",
       "      <td>32.1</td>\n",
       "      <td>171.7</td>\n",
       "      <td>92</td>\n",
       "      <td>14.59</td>\n",
       "      <td>224.4</td>\n",
       "      <td>89</td>\n",
       "      <td>10.10</td>\n",
       "      <td>0</td>\n",
       "      <td>no</td>\n",
       "    </tr>\n",
       "    <tr>\n",
       "      <th>4999</th>\n",
       "      <td>VT</td>\n",
       "      <td>area_code_415</td>\n",
       "      <td>yes</td>\n",
       "      <td>34</td>\n",
       "      <td>no</td>\n",
       "      <td>9.3</td>\n",
       "      <td>16</td>\n",
       "      <td>2.51</td>\n",
       "      <td>129.4</td>\n",
       "      <td>102</td>\n",
       "      <td>22</td>\n",
       "      <td>267.1</td>\n",
       "      <td>104</td>\n",
       "      <td>22.70</td>\n",
       "      <td>154.8</td>\n",
       "      <td>100</td>\n",
       "      <td>6.97</td>\n",
       "      <td>0</td>\n",
       "      <td>no</td>\n",
       "    </tr>\n",
       "  </tbody>\n",
       "</table>\n",
       "<p>5000 rows × 19 columns</p>\n",
       "</div>"
      ],
      "text/plain": [
       "     state      area.code voice.plan  voice.messages intl.plan  intl.mins  \\\n",
       "0       KS  area_code_415        yes              25        no       10.0   \n",
       "1       OH  area_code_415        yes              26        no       13.7   \n",
       "2       NJ  area_code_415         no               0        no       12.2   \n",
       "3       OH  area_code_408         no               0       yes        6.6   \n",
       "4       OK  area_code_415         no               0       yes       10.1   \n",
       "...    ...            ...        ...             ...       ...        ...   \n",
       "4995    HI  area_code_408        yes              40        no        9.9   \n",
       "4996    WV  area_code_415         no               0        no       14.7   \n",
       "4997    DC  area_code_415         no               0        no       13.6   \n",
       "4998    DC  area_code_510         no               0        no        8.5   \n",
       "4999    VT  area_code_415        yes              34        no        9.3   \n",
       "\n",
       "      intl.calls  intl.charge  day.mins  day.calls day.charge eve.mins  \\\n",
       "0              3         2.70     265.1        110      45.07    197.4   \n",
       "1              3         3.70     161.6        123      27.47    195.5   \n",
       "2              5         3.29     243.4        114      41.38    121.2   \n",
       "3              7         1.78     299.4         71       50.9     61.9   \n",
       "4              3         2.73     166.7        113      28.34    148.3   \n",
       "...          ...          ...       ...        ...        ...      ...   \n",
       "4995           5         2.67     235.7        127      40.07      223   \n",
       "4996           2         3.97     184.2         90      31.31    256.8   \n",
       "4997           4         3.67     140.6         89       23.9    172.8   \n",
       "4998           6         2.30     188.8         67       32.1    171.7   \n",
       "4999          16         2.51     129.4        102         22    267.1   \n",
       "\n",
       "      eve.calls  eve.charge  night.mins  night.calls  night.charge  \\\n",
       "0            99       16.78       244.7           91         11.01   \n",
       "1           103       16.62       254.4          103         11.45   \n",
       "2           110       10.30       162.6          104          7.32   \n",
       "3            88        5.26       196.9           89          8.86   \n",
       "4           122       12.61       186.9          121          8.41   \n",
       "...         ...         ...         ...          ...           ...   \n",
       "4995        126       18.96       297.5          116         13.39   \n",
       "4996         73       21.83       213.6          113          9.61   \n",
       "4997        128       14.69       212.4           97          9.56   \n",
       "4998         92       14.59       224.4           89         10.10   \n",
       "4999        104       22.70       154.8          100          6.97   \n",
       "\n",
       "      customer.calls churn  \n",
       "0                  1    no  \n",
       "1                  1    no  \n",
       "2                  0    no  \n",
       "3                  2    no  \n",
       "4                  3    no  \n",
       "...              ...   ...  \n",
       "4995               2    no  \n",
       "4996               3   yes  \n",
       "4997               1    no  \n",
       "4998               0    no  \n",
       "4999               0    no  \n",
       "\n",
       "[5000 rows x 19 columns]"
      ]
     },
     "execution_count": 5,
     "metadata": {},
     "output_type": "execute_result"
    }
   ],
   "source": [
    "df"
   ]
  },
  {
   "cell_type": "code",
   "execution_count": 6,
   "id": "8a3ab1df",
   "metadata": {
    "scrolled": true
   },
   "outputs": [
    {
     "data": {
      "text/plain": [
       "state              object\n",
       "area.code          object\n",
       "voice.plan         object\n",
       "voice.messages      int64\n",
       "intl.plan          object\n",
       "intl.mins         float64\n",
       "intl.calls          int64\n",
       "intl.charge       float64\n",
       "day.mins          float64\n",
       "day.calls           int64\n",
       "day.charge         object\n",
       "eve.mins           object\n",
       "eve.calls           int64\n",
       "eve.charge        float64\n",
       "night.mins        float64\n",
       "night.calls         int64\n",
       "night.charge      float64\n",
       "customer.calls      int64\n",
       "churn              object\n",
       "dtype: object"
      ]
     },
     "execution_count": 6,
     "metadata": {},
     "output_type": "execute_result"
    }
   ],
   "source": [
    "df.dtypes"
   ]
  },
  {
   "cell_type": "markdown",
   "id": "98cdf6a6",
   "metadata": {},
   "source": [
    "* Checking the datatypes\n",
    "* As we see day.charge & eve.mins are mentioned as object hence we have to change the category to float\n",
    "* simlilary we have to change the category for categorical variable"
   ]
  },
  {
   "cell_type": "code",
   "execution_count": 7,
   "id": "cff90088",
   "metadata": {},
   "outputs": [
    {
     "name": "stdout",
     "output_type": "stream",
     "text": [
      "<class 'pandas.core.frame.DataFrame'>\n",
      "RangeIndex: 5000 entries, 0 to 4999\n",
      "Data columns (total 19 columns):\n",
      " #   Column          Non-Null Count  Dtype  \n",
      "---  ------          --------------  -----  \n",
      " 0   state           5000 non-null   object \n",
      " 1   area.code       5000 non-null   object \n",
      " 2   voice.plan      5000 non-null   object \n",
      " 3   voice.messages  5000 non-null   int64  \n",
      " 4   intl.plan       5000 non-null   object \n",
      " 5   intl.mins       5000 non-null   float64\n",
      " 6   intl.calls      5000 non-null   int64  \n",
      " 7   intl.charge     5000 non-null   float64\n",
      " 8   day.mins        5000 non-null   float64\n",
      " 9   day.calls       5000 non-null   int64  \n",
      " 10  day.charge      5000 non-null   object \n",
      " 11  eve.mins        5000 non-null   object \n",
      " 12  eve.calls       5000 non-null   int64  \n",
      " 13  eve.charge      5000 non-null   float64\n",
      " 14  night.mins      5000 non-null   float64\n",
      " 15  night.calls     5000 non-null   int64  \n",
      " 16  night.charge    5000 non-null   float64\n",
      " 17  customer.calls  5000 non-null   int64  \n",
      " 18  churn           5000 non-null   object \n",
      "dtypes: float64(6), int64(6), object(7)\n",
      "memory usage: 742.3+ KB\n"
     ]
    }
   ],
   "source": [
    "df.info()"
   ]
  },
  {
   "cell_type": "code",
   "execution_count": 8,
   "id": "c35b6a5c",
   "metadata": {},
   "outputs": [],
   "source": [
    "# Changing the category\n",
    "df[[\"day.charge\",\"eve.mins\"]]=df[[\"day.charge\",\"eve.mins\"]].astype(\"float\")"
   ]
  },
  {
   "cell_type": "code",
   "execution_count": 9,
   "id": "5d78d73a",
   "metadata": {},
   "outputs": [],
   "source": [
    "df[[\"voice.plan\",'customer.calls','intl.plan','churn','area.code','state']]=df[[\"voice.plan\",\"customer.calls\",'intl.plan','churn','area.code','state']].astype(\"category\")"
   ]
  },
  {
   "cell_type": "code",
   "execution_count": 10,
   "id": "256bc995",
   "metadata": {},
   "outputs": [
    {
     "name": "stdout",
     "output_type": "stream",
     "text": [
      "<class 'pandas.core.frame.DataFrame'>\n",
      "RangeIndex: 5000 entries, 0 to 4999\n",
      "Data columns (total 19 columns):\n",
      " #   Column          Non-Null Count  Dtype   \n",
      "---  ------          --------------  -----   \n",
      " 0   state           5000 non-null   category\n",
      " 1   area.code       5000 non-null   category\n",
      " 2   voice.plan      5000 non-null   category\n",
      " 3   voice.messages  5000 non-null   int64   \n",
      " 4   intl.plan       5000 non-null   category\n",
      " 5   intl.mins       5000 non-null   float64 \n",
      " 6   intl.calls      5000 non-null   int64   \n",
      " 7   intl.charge     5000 non-null   float64 \n",
      " 8   day.mins        5000 non-null   float64 \n",
      " 9   day.calls       5000 non-null   int64   \n",
      " 10  day.charge      4993 non-null   float64 \n",
      " 11  eve.mins        4976 non-null   float64 \n",
      " 12  eve.calls       5000 non-null   int64   \n",
      " 13  eve.charge      5000 non-null   float64 \n",
      " 14  night.mins      5000 non-null   float64 \n",
      " 15  night.calls     5000 non-null   int64   \n",
      " 16  night.charge    5000 non-null   float64 \n",
      " 17  customer.calls  5000 non-null   category\n",
      " 18  churn           5000 non-null   category\n",
      "dtypes: category(6), float64(8), int64(5)\n",
      "memory usage: 540.6 KB\n"
     ]
    }
   ],
   "source": [
    "df.info()"
   ]
  },
  {
   "cell_type": "code",
   "execution_count": 11,
   "id": "1f536004",
   "metadata": {
    "scrolled": true
   },
   "outputs": [
    {
     "data": {
      "text/html": [
       "<div>\n",
       "<style scoped>\n",
       "    .dataframe tbody tr th:only-of-type {\n",
       "        vertical-align: middle;\n",
       "    }\n",
       "\n",
       "    .dataframe tbody tr th {\n",
       "        vertical-align: top;\n",
       "    }\n",
       "\n",
       "    .dataframe thead th {\n",
       "        text-align: right;\n",
       "    }\n",
       "</style>\n",
       "<table border=\"1\" class=\"dataframe\">\n",
       "  <thead>\n",
       "    <tr style=\"text-align: right;\">\n",
       "      <th></th>\n",
       "      <th>voice.messages</th>\n",
       "      <th>intl.mins</th>\n",
       "      <th>intl.calls</th>\n",
       "      <th>intl.charge</th>\n",
       "      <th>day.mins</th>\n",
       "      <th>day.calls</th>\n",
       "      <th>day.charge</th>\n",
       "      <th>eve.mins</th>\n",
       "      <th>eve.calls</th>\n",
       "      <th>eve.charge</th>\n",
       "      <th>night.mins</th>\n",
       "      <th>night.calls</th>\n",
       "      <th>night.charge</th>\n",
       "    </tr>\n",
       "  </thead>\n",
       "  <tbody>\n",
       "    <tr>\n",
       "      <th>count</th>\n",
       "      <td>5000.000000</td>\n",
       "      <td>5000.000000</td>\n",
       "      <td>5000.000000</td>\n",
       "      <td>5000.000000</td>\n",
       "      <td>5000.000000</td>\n",
       "      <td>5000.000000</td>\n",
       "      <td>4993.000000</td>\n",
       "      <td>4976.000000</td>\n",
       "      <td>5000.000000</td>\n",
       "      <td>5000.000000</td>\n",
       "      <td>5000.000000</td>\n",
       "      <td>5000.000000</td>\n",
       "      <td>5000.000000</td>\n",
       "    </tr>\n",
       "    <tr>\n",
       "      <th>mean</th>\n",
       "      <td>7.755200</td>\n",
       "      <td>10.261780</td>\n",
       "      <td>4.435200</td>\n",
       "      <td>2.771196</td>\n",
       "      <td>180.288900</td>\n",
       "      <td>100.029400</td>\n",
       "      <td>30.653501</td>\n",
       "      <td>200.580326</td>\n",
       "      <td>100.191000</td>\n",
       "      <td>17.054322</td>\n",
       "      <td>200.391620</td>\n",
       "      <td>99.919200</td>\n",
       "      <td>9.017732</td>\n",
       "    </tr>\n",
       "    <tr>\n",
       "      <th>std</th>\n",
       "      <td>13.546393</td>\n",
       "      <td>2.761396</td>\n",
       "      <td>2.456788</td>\n",
       "      <td>0.745514</td>\n",
       "      <td>53.894699</td>\n",
       "      <td>19.831197</td>\n",
       "      <td>9.166356</td>\n",
       "      <td>50.554637</td>\n",
       "      <td>19.826496</td>\n",
       "      <td>4.296843</td>\n",
       "      <td>50.527789</td>\n",
       "      <td>19.958686</td>\n",
       "      <td>2.273763</td>\n",
       "    </tr>\n",
       "    <tr>\n",
       "      <th>min</th>\n",
       "      <td>0.000000</td>\n",
       "      <td>0.000000</td>\n",
       "      <td>0.000000</td>\n",
       "      <td>0.000000</td>\n",
       "      <td>0.000000</td>\n",
       "      <td>0.000000</td>\n",
       "      <td>0.000000</td>\n",
       "      <td>0.000000</td>\n",
       "      <td>0.000000</td>\n",
       "      <td>0.000000</td>\n",
       "      <td>0.000000</td>\n",
       "      <td>0.000000</td>\n",
       "      <td>0.000000</td>\n",
       "    </tr>\n",
       "    <tr>\n",
       "      <th>25%</th>\n",
       "      <td>0.000000</td>\n",
       "      <td>8.500000</td>\n",
       "      <td>3.000000</td>\n",
       "      <td>2.300000</td>\n",
       "      <td>143.700000</td>\n",
       "      <td>87.000000</td>\n",
       "      <td>24.430000</td>\n",
       "      <td>166.275000</td>\n",
       "      <td>87.000000</td>\n",
       "      <td>14.140000</td>\n",
       "      <td>166.900000</td>\n",
       "      <td>87.000000</td>\n",
       "      <td>7.510000</td>\n",
       "    </tr>\n",
       "    <tr>\n",
       "      <th>50%</th>\n",
       "      <td>0.000000</td>\n",
       "      <td>10.300000</td>\n",
       "      <td>4.000000</td>\n",
       "      <td>2.780000</td>\n",
       "      <td>180.100000</td>\n",
       "      <td>100.000000</td>\n",
       "      <td>30.620000</td>\n",
       "      <td>201.000000</td>\n",
       "      <td>100.000000</td>\n",
       "      <td>17.090000</td>\n",
       "      <td>200.400000</td>\n",
       "      <td>100.000000</td>\n",
       "      <td>9.020000</td>\n",
       "    </tr>\n",
       "    <tr>\n",
       "      <th>75%</th>\n",
       "      <td>17.000000</td>\n",
       "      <td>12.000000</td>\n",
       "      <td>6.000000</td>\n",
       "      <td>3.240000</td>\n",
       "      <td>216.200000</td>\n",
       "      <td>113.000000</td>\n",
       "      <td>36.750000</td>\n",
       "      <td>234.100000</td>\n",
       "      <td>114.000000</td>\n",
       "      <td>19.900000</td>\n",
       "      <td>234.700000</td>\n",
       "      <td>113.000000</td>\n",
       "      <td>10.560000</td>\n",
       "    </tr>\n",
       "    <tr>\n",
       "      <th>max</th>\n",
       "      <td>52.000000</td>\n",
       "      <td>20.000000</td>\n",
       "      <td>20.000000</td>\n",
       "      <td>5.400000</td>\n",
       "      <td>351.500000</td>\n",
       "      <td>165.000000</td>\n",
       "      <td>59.760000</td>\n",
       "      <td>363.700000</td>\n",
       "      <td>170.000000</td>\n",
       "      <td>30.910000</td>\n",
       "      <td>395.000000</td>\n",
       "      <td>175.000000</td>\n",
       "      <td>17.770000</td>\n",
       "    </tr>\n",
       "  </tbody>\n",
       "</table>\n",
       "</div>"
      ],
      "text/plain": [
       "       voice.messages    intl.mins   intl.calls  intl.charge     day.mins  \\\n",
       "count     5000.000000  5000.000000  5000.000000  5000.000000  5000.000000   \n",
       "mean         7.755200    10.261780     4.435200     2.771196   180.288900   \n",
       "std         13.546393     2.761396     2.456788     0.745514    53.894699   \n",
       "min          0.000000     0.000000     0.000000     0.000000     0.000000   \n",
       "25%          0.000000     8.500000     3.000000     2.300000   143.700000   \n",
       "50%          0.000000    10.300000     4.000000     2.780000   180.100000   \n",
       "75%         17.000000    12.000000     6.000000     3.240000   216.200000   \n",
       "max         52.000000    20.000000    20.000000     5.400000   351.500000   \n",
       "\n",
       "         day.calls   day.charge     eve.mins    eve.calls   eve.charge  \\\n",
       "count  5000.000000  4993.000000  4976.000000  5000.000000  5000.000000   \n",
       "mean    100.029400    30.653501   200.580326   100.191000    17.054322   \n",
       "std      19.831197     9.166356    50.554637    19.826496     4.296843   \n",
       "min       0.000000     0.000000     0.000000     0.000000     0.000000   \n",
       "25%      87.000000    24.430000   166.275000    87.000000    14.140000   \n",
       "50%     100.000000    30.620000   201.000000   100.000000    17.090000   \n",
       "75%     113.000000    36.750000   234.100000   114.000000    19.900000   \n",
       "max     165.000000    59.760000   363.700000   170.000000    30.910000   \n",
       "\n",
       "        night.mins  night.calls  night.charge  \n",
       "count  5000.000000  5000.000000   5000.000000  \n",
       "mean    200.391620    99.919200      9.017732  \n",
       "std      50.527789    19.958686      2.273763  \n",
       "min       0.000000     0.000000      0.000000  \n",
       "25%     166.900000    87.000000      7.510000  \n",
       "50%     200.400000   100.000000      9.020000  \n",
       "75%     234.700000   113.000000     10.560000  \n",
       "max     395.000000   175.000000     17.770000  "
      ]
     },
     "execution_count": 11,
     "metadata": {},
     "output_type": "execute_result"
    }
   ],
   "source": [
    "df.describe()"
   ]
  },
  {
   "cell_type": "code",
   "execution_count": 12,
   "id": "d15c4cfd",
   "metadata": {},
   "outputs": [
    {
     "name": "stderr",
     "output_type": "stream",
     "text": [
      "C:\\Users\\Dell\\AppData\\Local\\Temp\\ipykernel_16408\\3478091337.py:1: FutureWarning: Dropping of nuisance columns in DataFrame reductions (with 'numeric_only=None') is deprecated; in a future version this will raise TypeError.  Select only valid columns before calling the reduction.\n",
      "  df.std() #finding standard devation of each column\n"
     ]
    },
    {
     "data": {
      "text/plain": [
       "voice.messages    13.546393\n",
       "intl.mins          2.761396\n",
       "intl.calls         2.456788\n",
       "intl.charge        0.745514\n",
       "day.mins          53.894699\n",
       "day.calls         19.831197\n",
       "day.charge         9.166356\n",
       "eve.mins          50.554637\n",
       "eve.calls         19.826496\n",
       "eve.charge         4.296843\n",
       "night.mins        50.527789\n",
       "night.calls       19.958686\n",
       "night.charge       2.273763\n",
       "dtype: float64"
      ]
     },
     "execution_count": 12,
     "metadata": {},
     "output_type": "execute_result"
    }
   ],
   "source": [
    "df.std() #finding standard devation of each column"
   ]
  },
  {
   "cell_type": "markdown",
   "id": "db8b5216",
   "metadata": {},
   "source": [
    "CHECKING SKEWNESS"
   ]
  },
  {
   "cell_type": "code",
   "execution_count": 13,
   "id": "a819cd85",
   "metadata": {},
   "outputs": [],
   "source": [
    "copy= df.copy() # creating a o copy of data"
   ]
  },
  {
   "cell_type": "code",
   "execution_count": 14,
   "id": "ff96a059",
   "metadata": {},
   "outputs": [],
   "source": [
    "# renaming the columns\n",
    "copy.rename(columns = {'eve.mins':\"eve_mins\", \"day.charge\":\"day_charge\", \"account.length\":\"account_length\",\"intl.mins\":\"intl_mins\",\"intl.calls\":\"inlt_calls\",\"day.mins\":\"day_mins\",\"day.calls\":\"day_calls\",\"eve.calls\":\"eve_calls\",\"eve.charge\":\"eve_charge\",\"night.mins\":\"night_mins\",\"night.calls\":\"night_calls\",\"night.charge\":\"night_charge\",\"voice.messages\":\"voice_messages\"}, inplace = True)"
   ]
  },
  {
   "cell_type": "code",
   "execution_count": 15,
   "id": "ff3d7014",
   "metadata": {},
   "outputs": [],
   "source": [
    "# Dropping the categorical variables from copy data\n",
    "copy1=copy.drop(columns = [\"state\",\"area.code\",\"area.code\",'intl.plan','churn','voice.plan','customer.calls'])"
   ]
  },
  {
   "cell_type": "code",
   "execution_count": 16,
   "id": "8650de54",
   "metadata": {},
   "outputs": [],
   "source": [
    "from scipy.stats import skew"
   ]
  },
  {
   "cell_type": "code",
   "execution_count": 17,
   "id": "2c282fa8",
   "metadata": {},
   "outputs": [
    {
     "name": "stderr",
     "output_type": "stream",
     "text": [
      "C:\\Users\\Dell\\anaconda3\\lib\\site-packages\\seaborn\\distributions.py:2619: FutureWarning: `distplot` is a deprecated function and will be removed in a future version. Please adapt your code to use either `displot` (a figure-level function with similar flexibility) or `histplot` (an axes-level function for histograms).\n",
      "  warnings.warn(msg, FutureWarning)\n"
     ]
    },
    {
     "name": "stdout",
     "output_type": "stream",
     "text": [
      "voice_messages\n",
      "1.3500880157563215\n"
     ]
    },
    {
     "data": {
      "image/png": "[encoded data removed]",
      "text/plain": [
       "<Figure size 432x288 with 1 Axes>"
      ]
     },
     "metadata": {
      "needs_background": "light"
     },
     "output_type": "display_data"
    },
    {
     "name": "stdout",
     "output_type": "stream",
     "text": [
      "intl_mins\n",
      "-0.2099032977306901\n"
     ]
    },
    {
     "name": "stderr",
     "output_type": "stream",
     "text": [
      "C:\\Users\\Dell\\anaconda3\\lib\\site-packages\\seaborn\\distributions.py:2619: FutureWarning: `distplot` is a deprecated function and will be removed in a future version. Please adapt your code to use either `displot` (a figure-level function with similar flexibility) or `histplot` (an axes-level function for histograms).\n",
      "  warnings.warn(msg, FutureWarning)\n"
     ]
    },
    {
     "data": {
      "image/png": "[encoded data removed]",
      "text/plain": [
       "<Figure size 432x288 with 1 Axes>"
      ]
     },
     "metadata": {
      "needs_background": "light"
     },
     "output_type": "display_data"
    },
    {
     "name": "stdout",
     "output_type": "stream",
     "text": [
      "inlt_calls\n",
      "1.3602842376363693\n"
     ]
    },
    {
     "name": "stderr",
     "output_type": "stream",
     "text": [
      "C:\\Users\\Dell\\anaconda3\\lib\\site-packages\\seaborn\\distributions.py:2619: FutureWarning: `distplot` is a deprecated function and will be removed in a future version. Please adapt your code to use either `displot` (a figure-level function with similar flexibility) or `histplot` (an axes-level function for histograms).\n",
      "  warnings.warn(msg, FutureWarning)\n"
     ]
    },
    {
     "data": {
      "image/png": "[encoded data removed]",
      "text/plain": [
       "<Figure size 432x288 with 1 Axes>"
      ]
     },
     "metadata": {
      "needs_background": "light"
     },
     "output_type": "display_data"
    },
    {
     "name": "stdout",
     "output_type": "stream",
     "text": [
      "intl.charge\n",
      "-0.2102230235861805\n"
     ]
    },
    {
     "name": "stderr",
     "output_type": "stream",
     "text": [
      "C:\\Users\\Dell\\anaconda3\\lib\\site-packages\\seaborn\\distributions.py:2619: FutureWarning: `distplot` is a deprecated function and will be removed in a future version. Please adapt your code to use either `displot` (a figure-level function with similar flexibility) or `histplot` (an axes-level function for histograms).\n",
      "  warnings.warn(msg, FutureWarning)\n"
     ]
    },
    {
     "data": {
      "image/png": "[encoded data removed]",
      "text/plain": [
       "<Figure size 432x288 with 1 Axes>"
      ]
     },
     "metadata": {
      "needs_background": "light"
     },
     "output_type": "display_data"
    },
    {
     "name": "stderr",
     "output_type": "stream",
     "text": [
      "C:\\Users\\Dell\\anaconda3\\lib\\site-packages\\seaborn\\distributions.py:2619: FutureWarning: `distplot` is a deprecated function and will be removed in a future version. Please adapt your code to use either `displot` (a figure-level function with similar flexibility) or `histplot` (an axes-level function for histograms).\n",
      "  warnings.warn(msg, FutureWarning)\n"
     ]
    },
    {
     "name": "stdout",
     "output_type": "stream",
     "text": [
      "day_mins\n",
      "-0.011727307626116757\n"
     ]
    },
    {
     "data": {
      "image/png": "[encoded data removed]",
      "text/plain": [
       "<Figure size 432x288 with 1 Axes>"
      ]
     },
     "metadata": {
      "needs_background": "light"
     },
     "output_type": "display_data"
    },
    {
     "name": "stderr",
     "output_type": "stream",
     "text": [
      "C:\\Users\\Dell\\anaconda3\\lib\\site-packages\\seaborn\\distributions.py:2619: FutureWarning: `distplot` is a deprecated function and will be removed in a future version. Please adapt your code to use either `displot` (a figure-level function with similar flexibility) or `histplot` (an axes-level function for histograms).\n",
      "  warnings.warn(msg, FutureWarning)\n"
     ]
    },
    {
     "name": "stdout",
     "output_type": "stream",
     "text": [
      "day_calls\n",
      "-0.08486549426114644\n"
     ]
    },
    {
     "data": {
      "image/png": "[encoded data removed]",
      "text/plain": [
       "<Figure size 432x288 with 1 Axes>"
      ]
     },
     "metadata": {
      "needs_background": "light"
     },
     "output_type": "display_data"
    },
    {
     "name": "stdout",
     "output_type": "stream",
     "text": [
      "day_charge\n",
      "nan\n"
     ]
    },
    {
     "name": "stderr",
     "output_type": "stream",
     "text": [
      "C:\\Users\\Dell\\anaconda3\\lib\\site-packages\\seaborn\\distributions.py:2619: FutureWarning: `distplot` is a deprecated function and will be removed in a future version. Please adapt your code to use either `displot` (a figure-level function with similar flexibility) or `histplot` (an axes-level function for histograms).\n",
      "  warnings.warn(msg, FutureWarning)\n"
     ]
    },
    {
     "data": {
      "image/png": "[encoded data removed]",
      "text/plain": [
       "<Figure size 432x288 with 1 Axes>"
      ]
     },
     "metadata": {
      "needs_background": "light"
     },
     "output_type": "display_data"
    },
    {
     "name": "stdout",
     "output_type": "stream",
     "text": [
      "eve_mins\n",
      "nan\n"
     ]
    },
    {
     "name": "stderr",
     "output_type": "stream",
     "text": [
      "C:\\Users\\Dell\\anaconda3\\lib\\site-packages\\seaborn\\distributions.py:2619: FutureWarning: `distplot` is a deprecated function and will be removed in a future version. Please adapt your code to use either `displot` (a figure-level function with similar flexibility) or `histplot` (an axes-level function for histograms).\n",
      "  warnings.warn(msg, FutureWarning)\n"
     ]
    },
    {
     "data": {
      "image/png": "[encoded data removed]",
      "text/plain": [
       "<Figure size 432x288 with 1 Axes>"
      ]
     },
     "metadata": {
      "needs_background": "light"
     },
     "output_type": "display_data"
    },
    {
     "name": "stdout",
     "output_type": "stream",
     "text": [
      "eve_calls\n",
      "-0.020169150211941694\n"
     ]
    },
    {
     "name": "stderr",
     "output_type": "stream",
     "text": [
      "C:\\Users\\Dell\\anaconda3\\lib\\site-packages\\seaborn\\distributions.py:2619: FutureWarning: `distplot` is a deprecated function and will be removed in a future version. Please adapt your code to use either `displot` (a figure-level function with similar flexibility) or `histplot` (an axes-level function for histograms).\n",
      "  warnings.warn(msg, FutureWarning)\n"
     ]
    },
    {
     "data": {
      "image/png": "[encoded data removed]",
      "text/plain": [
       "<Figure size 432x288 with 1 Axes>"
      ]
     },
     "metadata": {
      "needs_background": "light"
     },
     "output_type": "display_data"
    },
    {
     "name": "stderr",
     "output_type": "stream",
     "text": [
      "C:\\Users\\Dell\\anaconda3\\lib\\site-packages\\seaborn\\distributions.py:2619: FutureWarning: `distplot` is a deprecated function and will be removed in a future version. Please adapt your code to use either `displot` (a figure-level function with similar flexibility) or `histplot` (an axes-level function for histograms).\n",
      "  warnings.warn(msg, FutureWarning)\n"
     ]
    },
    {
     "name": "stdout",
     "output_type": "stream",
     "text": [
      "eve_charge\n",
      "-0.010987030989003145\n"
     ]
    },
    {
     "data": {
      "image/png": "[encoded data removed]",
      "text/plain": [
       "<Figure size 432x288 with 1 Axes>"
      ]
     },
     "metadata": {
      "needs_background": "light"
     },
     "output_type": "display_data"
    },
    {
     "name": "stdout",
     "output_type": "stream",
     "text": [
      "night_mins\n",
      "0.019319118605887996\n"
     ]
    },
    {
     "name": "stderr",
     "output_type": "stream",
     "text": [
      "C:\\Users\\Dell\\anaconda3\\lib\\site-packages\\seaborn\\distributions.py:2619: FutureWarning: `distplot` is a deprecated function and will be removed in a future version. Please adapt your code to use either `displot` (a figure-level function with similar flexibility) or `histplot` (an axes-level function for histograms).\n",
      "  warnings.warn(msg, FutureWarning)\n"
     ]
    },
    {
     "data": {
      "image/png": "[encoded data removed]",
      "text/plain": [
       "<Figure size 432x288 with 1 Axes>"
      ]
     },
     "metadata": {
      "needs_background": "light"
     },
     "output_type": "display_data"
    },
    {
     "name": "stderr",
     "output_type": "stream",
     "text": [
      "C:\\Users\\Dell\\anaconda3\\lib\\site-packages\\seaborn\\distributions.py:2619: FutureWarning: `distplot` is a deprecated function and will be removed in a future version. Please adapt your code to use either `displot` (a figure-level function with similar flexibility) or `histplot` (an axes-level function for histograms).\n",
      "  warnings.warn(msg, FutureWarning)\n"
     ]
    },
    {
     "name": "stdout",
     "output_type": "stream",
     "text": [
      "night_calls\n",
      "0.00213220283773954\n"
     ]
    },
    {
     "data": {
      "image/png": "[encoded data removed]",
      "text/plain": [
       "<Figure size 432x288 with 1 Axes>"
      ]
     },
     "metadata": {
      "needs_background": "light"
     },
     "output_type": "display_data"
    },
    {
     "name": "stdout",
     "output_type": "stream",
     "text": [
      "night_charge\n",
      "0.019280957833122128\n"
     ]
    },
    {
     "name": "stderr",
     "output_type": "stream",
     "text": [
      "C:\\Users\\Dell\\anaconda3\\lib\\site-packages\\seaborn\\distributions.py:2619: FutureWarning: `distplot` is a deprecated function and will be removed in a future version. Please adapt your code to use either `displot` (a figure-level function with similar flexibility) or `histplot` (an axes-level function for histograms).\n",
      "  warnings.warn(msg, FutureWarning)\n"
     ]
    },
    {
     "data": {
      "image/png": "[encoded data removed]",
      "text/plain": [
       "<Figure size 432x288 with 1 Axes>"
      ]
     },
     "metadata": {
      "needs_background": "light"
     },
     "output_type": "display_data"
    }
   ],
   "source": [
    "for col in copy1:\n",
    "    print(col)\n",
    "    print(skew(copy1[col]))\n",
    "    \n",
    "    plt.figure()\n",
    "    sns.distplot(copy1[col])\n",
    "    plt.show()"
   ]
  },
  {
   "cell_type": "markdown",
   "id": "b3484312",
   "metadata": {},
   "source": [
    "* voice.message & intl calls right skewed and rest are normally distributed"
   ]
  },
  {
   "cell_type": "markdown",
   "id": "8cbae43d",
   "metadata": {},
   "source": [
    "PLOTTING BAR CHART AGAINST CHURN"
   ]
  },
  {
   "cell_type": "code",
   "execution_count": 18,
   "id": "0aca54dd",
   "metadata": {
    "scrolled": true
   },
   "outputs": [
    {
     "name": "stderr",
     "output_type": "stream",
     "text": [
      "C:\\Users\\Dell\\anaconda3\\lib\\site-packages\\seaborn\\_decorators.py:36: FutureWarning: Pass the following variable as a keyword arg: x. From version 0.12, the only valid positional argument will be `data`, and passing other arguments without an explicit keyword will result in an error or misinterpretation.\n",
      "  warnings.warn(\n"
     ]
    },
    {
     "data": {
      "text/plain": [
       "<AxesSubplot:xlabel='churn', ylabel='count'>"
      ]
     },
     "execution_count": 18,
     "metadata": {},
     "output_type": "execute_result"
    },
    {
     "data": {
      "image/png": "[encoded data removed]",
      "text/plain": [
       "<Figure size 432x288 with 1 Axes>"
      ]
     },
     "metadata": {
      "needs_background": "light"
     },
     "output_type": "display_data"
    }
   ],
   "source": [
    "sns.countplot('churn', hue = 'customer.calls', data =df)"
   ]
  },
  {
   "cell_type": "markdown",
   "id": "56c0754e",
   "metadata": {},
   "source": [
    "* high the service provided, likely the customer to stay"
   ]
  },
  {
   "cell_type": "markdown",
   "id": "efb895ba",
   "metadata": {},
   "source": [
    "PLOTTING HISTROGRAM w.r.t CHURN COLUMN"
   ]
  },
  {
   "cell_type": "code",
   "execution_count": 19,
   "id": "1e5c5019",
   "metadata": {
    "scrolled": true
   },
   "outputs": [
    {
     "name": "stderr",
     "output_type": "stream",
     "text": [
      "C:\\Users\\Dell\\anaconda3\\lib\\site-packages\\seaborn\\distributions.py:2619: FutureWarning: `distplot` is a deprecated function and will be removed in a future version. Please adapt your code to use either `displot` (a figure-level function with similar flexibility) or `histplot` (an axes-level function for histograms).\n",
      "  warnings.warn(msg, FutureWarning)\n"
     ]
    },
    {
     "data": {
      "text/plain": [
       "<AxesSubplot:xlabel='day_charge', ylabel='Density'>"
      ]
     },
     "execution_count": 19,
     "metadata": {},
     "output_type": "execute_result"
    },
    {
     "data": {
      "image/png": "[encoded data removed]",
      "text/plain": [
       "<Figure size 432x288 with 1 Axes>"
      ]
     },
     "metadata": {
      "needs_background": "light"
     },
     "output_type": "display_data"
    }
   ],
   "source": [
    "sns.distplot(copy.day_charge[copy.churn == 'yes'])"
   ]
  },
  {
   "cell_type": "code",
   "execution_count": 20,
   "id": "6cd77d8c",
   "metadata": {},
   "outputs": [
    {
     "name": "stderr",
     "output_type": "stream",
     "text": [
      "C:\\Users\\Dell\\anaconda3\\lib\\site-packages\\seaborn\\distributions.py:2619: FutureWarning: `distplot` is a deprecated function and will be removed in a future version. Please adapt your code to use either `displot` (a figure-level function with similar flexibility) or `histplot` (an axes-level function for histograms).\n",
      "  warnings.warn(msg, FutureWarning)\n"
     ]
    },
    {
     "data": {
      "text/plain": [
       "<AxesSubplot:xlabel='eve_charge', ylabel='Density'>"
      ]
     },
     "execution_count": 20,
     "metadata": {},
     "output_type": "execute_result"
    },
    {
     "data": {
      "image/png": "[encoded data removed]",
      "text/plain": [
       "<Figure size 432x288 with 1 Axes>"
      ]
     },
     "metadata": {
      "needs_background": "light"
     },
     "output_type": "display_data"
    }
   ],
   "source": [
    "sns.distplot(copy.eve_charge[copy.churn == 'yes'])"
   ]
  },
  {
   "cell_type": "markdown",
   "id": "ba553c2f",
   "metadata": {},
   "source": [
    "TREATING THE MISSING VALUES"
   ]
  },
  {
   "cell_type": "code",
   "execution_count": 21,
   "id": "85fd16b7",
   "metadata": {},
   "outputs": [
    {
     "data": {
      "text/plain": [
       "state              0\n",
       "area.code          0\n",
       "voice.plan         0\n",
       "voice.messages     0\n",
       "intl.plan          0\n",
       "intl.mins          0\n",
       "intl.calls         0\n",
       "intl.charge        0\n",
       "day.mins           0\n",
       "day.calls          0\n",
       "day.charge         7\n",
       "eve.mins          24\n",
       "eve.calls          0\n",
       "eve.charge         0\n",
       "night.mins         0\n",
       "night.calls        0\n",
       "night.charge       0\n",
       "customer.calls     0\n",
       "churn              0\n",
       "dtype: int64"
      ]
     },
     "execution_count": 21,
     "metadata": {},
     "output_type": "execute_result"
    }
   ],
   "source": [
    "df.isnull().sum() # finding Null values"
   ]
  },
  {
   "cell_type": "code",
   "execution_count": 22,
   "id": "bd88cb20",
   "metadata": {},
   "outputs": [
    {
     "data": {
      "image/png": "[encoded data removed]",
      "text/plain": [
       "<Figure size 1080x720 with 2 Axes>"
      ]
     },
     "metadata": {
      "needs_background": "light"
     },
     "output_type": "display_data"
    }
   ],
   "source": [
    "plt.figure(figsize=(15,10))\n",
    "sns.heatmap(df.isnull().transpose(), cmap = \"YlGnBu\", cbar_kws={'label':\"Missing Data\"})\n",
    "plt.savefig(\"visualizing_missing_data\", dpi=100)"
   ]
  },
  {
   "cell_type": "markdown",
   "id": "7be9a95f",
   "metadata": {},
   "source": [
    "* There are 24 misssing values in eve.mins & 7 in day.charge, filling the missing values with average of that column"
   ]
  },
  {
   "cell_type": "code",
   "execution_count": 23,
   "id": "46511ecb",
   "metadata": {},
   "outputs": [],
   "source": [
    "avg_eve_min = df[\"eve.mins\"].mean()\n",
    "df['eve.mins']=df[\"eve.mins\"].fillna(avg_eve_min)"
   ]
  },
  {
   "cell_type": "code",
   "execution_count": 24,
   "id": "04e35b40",
   "metadata": {},
   "outputs": [],
   "source": [
    "avg_day_charge = df['day.charge'].mean()\n",
    "df['day.charge'] = df[\"day.charge\"].fillna(avg_day_charge)"
   ]
  },
  {
   "cell_type": "code",
   "execution_count": 25,
   "id": "0ccf58a3",
   "metadata": {
    "scrolled": true
   },
   "outputs": [
    {
     "data": {
      "text/plain": [
       "state             0\n",
       "area.code         0\n",
       "voice.plan        0\n",
       "voice.messages    0\n",
       "intl.plan         0\n",
       "intl.mins         0\n",
       "intl.calls        0\n",
       "intl.charge       0\n",
       "day.mins          0\n",
       "day.calls         0\n",
       "day.charge        0\n",
       "eve.mins          0\n",
       "eve.calls         0\n",
       "eve.charge        0\n",
       "night.mins        0\n",
       "night.calls       0\n",
       "night.charge      0\n",
       "customer.calls    0\n",
       "churn             0\n",
       "dtype: int64"
      ]
     },
     "execution_count": 25,
     "metadata": {},
     "output_type": "execute_result"
    }
   ],
   "source": [
    "df.isnull().sum()"
   ]
  },
  {
   "cell_type": "code",
   "execution_count": 26,
   "id": "e2ffcb83",
   "metadata": {},
   "outputs": [
    {
     "data": {
      "text/plain": [
       "Text(0.5, 1.0, 'count of Target Varible per category')"
      ]
     },
     "execution_count": 26,
     "metadata": {},
     "output_type": "execute_result"
    },
    {
     "data": {
      "image/png": "[encoded data removed]",
      "text/plain": [
       "<Figure size 504x504 with 1 Axes>"
      ]
     },
     "metadata": {
      "needs_background": "light"
     },
     "output_type": "display_data"
    }
   ],
   "source": [
    "df['churn'].value_counts().plot(kind = 'bar', figsize= (7,7))\n",
    "plt.xlabel(\"Target Variable\")\n",
    "plt.ylabel(\"Count\")\n",
    "plt.title(\"count of Target Varible per category\")"
   ]
  },
  {
   "cell_type": "code",
   "execution_count": 27,
   "id": "df8d06be",
   "metadata": {},
   "outputs": [
    {
     "data": {
      "text/plain": [
       "no     4293\n",
       "yes     707\n",
       "Name: churn, dtype: int64"
      ]
     },
     "execution_count": 27,
     "metadata": {},
     "output_type": "execute_result"
    }
   ],
   "source": [
    "df['churn'].value_counts()"
   ]
  },
  {
   "cell_type": "code",
   "execution_count": 28,
   "id": "552c050b",
   "metadata": {},
   "outputs": [
    {
     "data": {
      "text/plain": [
       "no     85.86\n",
       "yes    14.14\n",
       "Name: churn, dtype: float64"
      ]
     },
     "execution_count": 28,
     "metadata": {},
     "output_type": "execute_result"
    }
   ],
   "source": [
    "100*df['churn'].value_counts()/len(df[\"churn\"]) #finding out the ratio"
   ]
  },
  {
   "cell_type": "markdown",
   "id": "cf58608a",
   "metadata": {},
   "source": [
    "* Finding the ratio of churners and non churners\n",
    "* The data is imbalance because the distribution churners are not proper \n",
    "* To overcome imbalanced data, Upsampling and down sampling is to be carried out"
   ]
  },
  {
   "cell_type": "markdown",
   "id": "9156936b",
   "metadata": {},
   "source": [
    "OUTLIER TREATMENT"
   ]
  },
  {
   "cell_type": "code",
   "execution_count": 29,
   "id": "8e4faa66",
   "metadata": {
    "scrolled": true
   },
   "outputs": [
    {
     "data": {
      "text/plain": [
       "<AxesSubplot:>"
      ]
     },
     "execution_count": 29,
     "metadata": {},
     "output_type": "execute_result"
    },
    {
     "data": {
      "image/png": "[encoded data removed]",
      "text/plain": [
       "<Figure size 1440x720 with 1 Axes>"
      ]
     },
     "metadata": {
      "needs_background": "light"
     },
     "output_type": "display_data"
    }
   ],
   "source": [
    "df.plot.box(figsize = (20,10))"
   ]
  },
  {
   "cell_type": "markdown",
   "id": "a4722053",
   "metadata": {},
   "source": [
    "* As we see, there are alots of outliers in each columns"
   ]
  },
  {
   "cell_type": "code",
   "execution_count": 30,
   "id": "bef85c6a",
   "metadata": {},
   "outputs": [],
   "source": [
    "# define a funcation called \"outliers\" which returns a list of index of outliers\n",
    "def outliers(df1, ft):\n",
    "    Q1 = df1[ft].quantile(0.25)\n",
    "    Q3 = df1[ft].quantile(0.75)\n",
    "    IQR = Q3 - Q1\n",
    "    \n",
    "    lower_bound = Q1 - 1.5*IQR\n",
    "    upper_bound = Q3 + 1.5*IQR\n",
    "    \n",
    "    Indexlist = df1.index[(df1[ft ] < lower_bound) | (df1[ft]> upper_bound)]\n",
    "    \n",
    "    return Indexlist\n",
    "    \n",
    "    "
   ]
  },
  {
   "cell_type": "code",
   "execution_count": 31,
   "id": "886a0389",
   "metadata": {},
   "outputs": [],
   "source": [
    "#create an empty list to store the output indices from multiple columns\n",
    "Outlier_list = []\n",
    "for feature in ['voice.messages','intl.mins','intl.calls','intl.charge','day.mins','day.calls','day.charge','eve.mins','eve.charge','night.mins','night.calls','night.charge']:\n",
    "    Outlier_list.extend(outliers(df, feature))"
   ]
  },
  {
   "cell_type": "code",
   "execution_count": 32,
   "id": "cf894985",
   "metadata": {},
   "outputs": [
    {
     "data": {
      "text/plain": [
       "[71,\n",
       " 149,\n",
       " 268,\n",
       " 277,\n",
       " 423,\n",
       " 599,\n",
       " 615,\n",
       " 790,\n",
       " 845,\n",
       " 872,\n",
       " 1269,\n",
       " 1285,\n",
       " 1378,\n",
       " 1441,\n",
       " 1454,\n",
       " 1487,\n",
       " 1596,\n",
       " 1602,\n",
       " 1732,\n",
       " 1797,\n",
       " 1846,\n",
       " 1908,\n",
       " 2366,\n",
       " 2457,\n",
       " 2570,\n",
       " 2608,\n",
       " 2686,\n",
       " 2716,\n",
       " 2768,\n",
       " 2887,\n",
       " 3154,\n",
       " 3165,\n",
       " 3174,\n",
       " 3246,\n",
       " 3279,\n",
       " 3342,\n",
       " 3433,\n",
       " 3523,\n",
       " 3524,\n",
       " 3543,\n",
       " 3577,\n",
       " 3826,\n",
       " 3910,\n",
       " 4059,\n",
       " 4275,\n",
       " 4338,\n",
       " 4369,\n",
       " 4445,\n",
       " 4502,\n",
       " 4516,\n",
       " 4588,\n",
       " 4625,\n",
       " 4706,\n",
       " 4713,\n",
       " 4717,\n",
       " 4777,\n",
       " 4778,\n",
       " 4824,\n",
       " 4859,\n",
       " 4933,\n",
       " 115,\n",
       " 179,\n",
       " 214,\n",
       " 225,\n",
       " 314,\n",
       " 343,\n",
       " 367,\n",
       " 397,\n",
       " 488,\n",
       " 502,\n",
       " 515,\n",
       " 535,\n",
       " 595,\n",
       " 712,\n",
       " 762,\n",
       " 878,\n",
       " 1028,\n",
       " 1080,\n",
       " 1099,\n",
       " 1257,\n",
       " 1400,\n",
       " 1420,\n",
       " 1564,\n",
       " 1570,\n",
       " 1651,\n",
       " 1816,\n",
       " 1966,\n",
       " 2004,\n",
       " 2180,\n",
       " 2197,\n",
       " 2229,\n",
       " 2238,\n",
       " 2256,\n",
       " 2345,\n",
       " 2362,\n",
       " 2371,\n",
       " 2513,\n",
       " 2534,\n",
       " 2669,\n",
       " 2733,\n",
       " 2816,\n",
       " 2906,\n",
       " 2918,\n",
       " 2933,\n",
       " 3022,\n",
       " 3080,\n",
       " 3160,\n",
       " 3216,\n",
       " 3234,\n",
       " 3275,\n",
       " 3290,\n",
       " 3307,\n",
       " 3400,\n",
       " 3403,\n",
       " 3568,\n",
       " 3663,\n",
       " 3788,\n",
       " 3891,\n",
       " 3906,\n",
       " 3916,\n",
       " 4103,\n",
       " 4371,\n",
       " 4396,\n",
       " 4451,\n",
       " 4504,\n",
       " 4574,\n",
       " 4730,\n",
       " 4935,\n",
       " 4949,\n",
       " 4955,\n",
       " 4971,\n",
       " 4976,\n",
       " 22,\n",
       " 41,\n",
       " 153,\n",
       " 182,\n",
       " 185,\n",
       " 211,\n",
       " 219,\n",
       " 250,\n",
       " 272,\n",
       " 329,\n",
       " 341,\n",
       " 347,\n",
       " 377,\n",
       " 420,\n",
       " 474,\n",
       " 483,\n",
       " 504,\n",
       " 514,\n",
       " 588,\n",
       " 636,\n",
       " 642,\n",
       " 674,\n",
       " 698,\n",
       " 723,\n",
       " 756,\n",
       " 837,\n",
       " 842,\n",
       " 854,\n",
       " 863,\n",
       " 883,\n",
       " 911,\n",
       " 921,\n",
       " 957,\n",
       " 982,\n",
       " 1021,\n",
       " 1092,\n",
       " 1168,\n",
       " 1179,\n",
       " 1323,\n",
       " 1333,\n",
       " 1355,\n",
       " 1392,\n",
       " 1419,\n",
       " 1526,\n",
       " 1567,\n",
       " 1581,\n",
       " 1657,\n",
       " 1797,\n",
       " 1832,\n",
       " 1889,\n",
       " 1960,\n",
       " 2001,\n",
       " 2018,\n",
       " 2156,\n",
       " 2212,\n",
       " 2269,\n",
       " 2562,\n",
       " 2576,\n",
       " 2621,\n",
       " 2703,\n",
       " 2724,\n",
       " 2775,\n",
       " 2826,\n",
       " 2835,\n",
       " 2883,\n",
       " 2930,\n",
       " 2947,\n",
       " 2956,\n",
       " 2970,\n",
       " 3025,\n",
       " 3071,\n",
       " 3097,\n",
       " 3109,\n",
       " 3128,\n",
       " 3206,\n",
       " 3230,\n",
       " 3291,\n",
       " 3310,\n",
       " 3386,\n",
       " 3418,\n",
       " 3454,\n",
       " 3516,\n",
       " 3536,\n",
       " 3541,\n",
       " 3587,\n",
       " 3636,\n",
       " 3664,\n",
       " 3727,\n",
       " 3800,\n",
       " 3826,\n",
       " 3839,\n",
       " 3840,\n",
       " 3938,\n",
       " 3973,\n",
       " 3991,\n",
       " 4108,\n",
       " 4126,\n",
       " 4134,\n",
       " 4184,\n",
       " 4286,\n",
       " 4292,\n",
       " 4361,\n",
       " 4386,\n",
       " 4408,\n",
       " 4465,\n",
       " 4478,\n",
       " 4568,\n",
       " 4641,\n",
       " 4652,\n",
       " 4679,\n",
       " 4684,\n",
       " 4693,\n",
       " 4726,\n",
       " 4857,\n",
       " 4877,\n",
       " 4917,\n",
       " 4955,\n",
       " 4999,\n",
       " 115,\n",
       " 179,\n",
       " 214,\n",
       " 225,\n",
       " 314,\n",
       " 343,\n",
       " 367,\n",
       " 397,\n",
       " 488,\n",
       " 502,\n",
       " 515,\n",
       " 535,\n",
       " 595,\n",
       " 712,\n",
       " 762,\n",
       " 878,\n",
       " 1028,\n",
       " 1080,\n",
       " 1099,\n",
       " 1257,\n",
       " 1400,\n",
       " 1420,\n",
       " 1564,\n",
       " 1570,\n",
       " 1651,\n",
       " 1816,\n",
       " 1966,\n",
       " 2004,\n",
       " 2180,\n",
       " 2197,\n",
       " 2229,\n",
       " 2238,\n",
       " 2256,\n",
       " 2345,\n",
       " 2362,\n",
       " 2371,\n",
       " 2513,\n",
       " 2534,\n",
       " 2669,\n",
       " 2733,\n",
       " 2816,\n",
       " 2906,\n",
       " 2918,\n",
       " 2933,\n",
       " 3022,\n",
       " 3080,\n",
       " 3160,\n",
       " 3216,\n",
       " 3234,\n",
       " 3275,\n",
       " 3290,\n",
       " 3307,\n",
       " 3400,\n",
       " 3403,\n",
       " 3568,\n",
       " 3663,\n",
       " 3788,\n",
       " 3891,\n",
       " 3906,\n",
       " 3916,\n",
       " 4103,\n",
       " 4371,\n",
       " 4396,\n",
       " 4451,\n",
       " 4504,\n",
       " 4574,\n",
       " 4730,\n",
       " 4935,\n",
       " 4949,\n",
       " 4955,\n",
       " 4971,\n",
       " 4976,\n",
       " 15,\n",
       " 156,\n",
       " 197,\n",
       " 365,\n",
       " 605,\n",
       " 685,\n",
       " 741,\n",
       " 975,\n",
       " 985,\n",
       " 1052,\n",
       " 1076,\n",
       " 1345,\n",
       " 1397,\n",
       " 1621,\n",
       " 1679,\n",
       " 1986,\n",
       " 2028,\n",
       " 2124,\n",
       " 2252,\n",
       " 2412,\n",
       " 2594,\n",
       " 2736,\n",
       " 2753,\n",
       " 3046,\n",
       " 3174,\n",
       " 3442,\n",
       " 3675,\n",
       " 3733,\n",
       " 3993,\n",
       " 4121,\n",
       " 4476,\n",
       " 4892,\n",
       " 4962,\n",
       " 4981,\n",
       " 143,\n",
       " 315,\n",
       " 415,\n",
       " 468,\n",
       " 692,\n",
       " 740,\n",
       " 1057,\n",
       " 1121,\n",
       " 1144,\n",
       " 1322,\n",
       " 1345,\n",
       " 1346,\n",
       " 1397,\n",
       " 1422,\n",
       " 1460,\n",
       " 1869,\n",
       " 1989,\n",
       " 2217,\n",
       " 2392,\n",
       " 2394,\n",
       " 2492,\n",
       " 2884,\n",
       " 2885,\n",
       " 2964,\n",
       " 3187,\n",
       " 3978,\n",
       " 4049,\n",
       " 4155,\n",
       " 4230,\n",
       " 4297,\n",
       " 4308,\n",
       " 4445,\n",
       " 4464,\n",
       " 4562,\n",
       " 4831,\n",
       " 15,\n",
       " 156,\n",
       " 197,\n",
       " 365,\n",
       " 605,\n",
       " 685,\n",
       " 741,\n",
       " 975,\n",
       " 985,\n",
       " 1052,\n",
       " 1076,\n",
       " 1345,\n",
       " 1397,\n",
       " 1621,\n",
       " 1679,\n",
       " 1986,\n",
       " 2028,\n",
       " 2124,\n",
       " 2252,\n",
       " 2412,\n",
       " 2594,\n",
       " 2736,\n",
       " 2753,\n",
       " 3046,\n",
       " 3174,\n",
       " 3442,\n",
       " 3675,\n",
       " 3733,\n",
       " 3993,\n",
       " 4121,\n",
       " 4476,\n",
       " 4892,\n",
       " 4962,\n",
       " 4981,\n",
       " 3,\n",
       " 6,\n",
       " 8,\n",
       " 32,\n",
       " 186,\n",
       " 302,\n",
       " 529,\n",
       " 533,\n",
       " 579,\n",
       " 580,\n",
       " 587,\n",
       " 821,\n",
       " 850,\n",
       " 889,\n",
       " 893,\n",
       " 1054,\n",
       " 1190,\n",
       " 1233,\n",
       " 1276,\n",
       " 1335,\n",
       " 1601,\n",
       " 1906,\n",
       " 1960,\n",
       " 2160,\n",
       " 2331,\n",
       " 2337,\n",
       " 2551,\n",
       " 2732,\n",
       " 2932,\n",
       " 3075,\n",
       " 3370,\n",
       " 3799,\n",
       " 3955,\n",
       " 3989,\n",
       " 3996,\n",
       " 4158,\n",
       " 4347,\n",
       " 4375,\n",
       " 4387,\n",
       " 4544,\n",
       " 4564,\n",
       " 4621,\n",
       " 4885,\n",
       " 4892,\n",
       " 4991,\n",
       " 3,\n",
       " 6,\n",
       " 8,\n",
       " 32,\n",
       " 186,\n",
       " 302,\n",
       " 529,\n",
       " 533,\n",
       " 580,\n",
       " 587,\n",
       " 821,\n",
       " 850,\n",
       " 889,\n",
       " 893,\n",
       " 1054,\n",
       " 1190,\n",
       " 1233,\n",
       " 1276,\n",
       " 1335,\n",
       " 1601,\n",
       " 1960,\n",
       " 2160,\n",
       " 2331,\n",
       " 2551,\n",
       " 2732,\n",
       " 2932,\n",
       " 3075,\n",
       " 3370,\n",
       " 3799,\n",
       " 3955,\n",
       " 3989,\n",
       " 3996,\n",
       " 4158,\n",
       " 4347,\n",
       " 4375,\n",
       " 4387,\n",
       " 4544,\n",
       " 4564,\n",
       " 4621,\n",
       " 4885,\n",
       " 4892,\n",
       " 4991,\n",
       " 116,\n",
       " 244,\n",
       " 444,\n",
       " 862,\n",
       " 883,\n",
       " 918,\n",
       " 922,\n",
       " 992,\n",
       " 999,\n",
       " 1072,\n",
       " 1113,\n",
       " 1202,\n",
       " 1238,\n",
       " 1260,\n",
       " 1313,\n",
       " 1317,\n",
       " 1445,\n",
       " 2321,\n",
       " 2350,\n",
       " 2382,\n",
       " 2452,\n",
       " 2609,\n",
       " 2663,\n",
       " 2754,\n",
       " 2756,\n",
       " 3024,\n",
       " 3060,\n",
       " 3107,\n",
       " 3159,\n",
       " 3247,\n",
       " 3376,\n",
       " 3659,\n",
       " 3807,\n",
       " 3899,\n",
       " 4222,\n",
       " 4383,\n",
       " 4707,\n",
       " 4727,\n",
       " 4828,\n",
       " 315,\n",
       " 326,\n",
       " 335,\n",
       " 395,\n",
       " 429,\n",
       " 493,\n",
       " 586,\n",
       " 901,\n",
       " 1109,\n",
       " 1200,\n",
       " 1296,\n",
       " 1748,\n",
       " 1810,\n",
       " 2288,\n",
       " 2659,\n",
       " 2728,\n",
       " 2736,\n",
       " 2903,\n",
       " 2988,\n",
       " 3172,\n",
       " 3211,\n",
       " 3234,\n",
       " 3535,\n",
       " 3560,\n",
       " 3570,\n",
       " 3767,\n",
       " 3799,\n",
       " 3895,\n",
       " 3921,\n",
       " 4069,\n",
       " 4079,\n",
       " 4085,\n",
       " 4152,\n",
       " 4207,\n",
       " 4244,\n",
       " 4343,\n",
       " 4386,\n",
       " 4410,\n",
       " 4489,\n",
       " 4508,\n",
       " 4549,\n",
       " 4568,\n",
       " 4707,\n",
       " 116,\n",
       " 244,\n",
       " 444,\n",
       " 862,\n",
       " 883,\n",
       " 918,\n",
       " 922,\n",
       " 992,\n",
       " 999,\n",
       " 1072,\n",
       " 1113,\n",
       " 1202,\n",
       " 1238,\n",
       " 1260,\n",
       " 1313,\n",
       " 1317,\n",
       " 1445,\n",
       " 2321,\n",
       " 2350,\n",
       " 2382,\n",
       " 2452,\n",
       " 2609,\n",
       " 2663,\n",
       " 2754,\n",
       " 2756,\n",
       " 3024,\n",
       " 3060,\n",
       " 3107,\n",
       " 3159,\n",
       " 3247,\n",
       " 3376,\n",
       " 3659,\n",
       " 3807,\n",
       " 3899,\n",
       " 4222,\n",
       " 4383,\n",
       " 4707,\n",
       " 4727,\n",
       " 4828]"
      ]
     },
     "execution_count": 32,
     "metadata": {},
     "output_type": "execute_result"
    }
   ],
   "source": [
    "Outlier_list"
   ]
  },
  {
   "cell_type": "code",
   "execution_count": 33,
   "id": "02bdb164",
   "metadata": {},
   "outputs": [],
   "source": [
    "# Removing the outliers as to get clean data\n",
    "def remove(df1, Indexlist):\n",
    "    Indexlist = sorted(set(Indexlist))\n",
    "    df1 = df1.drop(Indexlist)\n",
    "    return df1"
   ]
  },
  {
   "cell_type": "code",
   "execution_count": 34,
   "id": "7f61a977",
   "metadata": {},
   "outputs": [
    {
     "data": {
      "text/html": [
       "<div>\n",
       "<style scoped>\n",
       "    .dataframe tbody tr th:only-of-type {\n",
       "        vertical-align: middle;\n",
       "    }\n",
       "\n",
       "    .dataframe tbody tr th {\n",
       "        vertical-align: top;\n",
       "    }\n",
       "\n",
       "    .dataframe thead th {\n",
       "        text-align: right;\n",
       "    }\n",
       "</style>\n",
       "<table border=\"1\" class=\"dataframe\">\n",
       "  <thead>\n",
       "    <tr style=\"text-align: right;\">\n",
       "      <th></th>\n",
       "      <th>state</th>\n",
       "      <th>area.code</th>\n",
       "      <th>voice.plan</th>\n",
       "      <th>voice.messages</th>\n",
       "      <th>intl.plan</th>\n",
       "      <th>intl.mins</th>\n",
       "      <th>intl.calls</th>\n",
       "      <th>intl.charge</th>\n",
       "      <th>day.mins</th>\n",
       "      <th>day.calls</th>\n",
       "      <th>day.charge</th>\n",
       "      <th>eve.mins</th>\n",
       "      <th>eve.calls</th>\n",
       "      <th>eve.charge</th>\n",
       "      <th>night.mins</th>\n",
       "      <th>night.calls</th>\n",
       "      <th>night.charge</th>\n",
       "      <th>customer.calls</th>\n",
       "      <th>churn</th>\n",
       "    </tr>\n",
       "  </thead>\n",
       "  <tbody>\n",
       "    <tr>\n",
       "      <th>0</th>\n",
       "      <td>KS</td>\n",
       "      <td>area_code_415</td>\n",
       "      <td>yes</td>\n",
       "      <td>25</td>\n",
       "      <td>no</td>\n",
       "      <td>10.0</td>\n",
       "      <td>3</td>\n",
       "      <td>2.70</td>\n",
       "      <td>265.1</td>\n",
       "      <td>110</td>\n",
       "      <td>45.07</td>\n",
       "      <td>197.4</td>\n",
       "      <td>99</td>\n",
       "      <td>16.78</td>\n",
       "      <td>244.7</td>\n",
       "      <td>91</td>\n",
       "      <td>11.01</td>\n",
       "      <td>1</td>\n",
       "      <td>no</td>\n",
       "    </tr>\n",
       "    <tr>\n",
       "      <th>1</th>\n",
       "      <td>OH</td>\n",
       "      <td>area_code_415</td>\n",
       "      <td>yes</td>\n",
       "      <td>26</td>\n",
       "      <td>no</td>\n",
       "      <td>13.7</td>\n",
       "      <td>3</td>\n",
       "      <td>3.70</td>\n",
       "      <td>161.6</td>\n",
       "      <td>123</td>\n",
       "      <td>27.47</td>\n",
       "      <td>195.5</td>\n",
       "      <td>103</td>\n",
       "      <td>16.62</td>\n",
       "      <td>254.4</td>\n",
       "      <td>103</td>\n",
       "      <td>11.45</td>\n",
       "      <td>1</td>\n",
       "      <td>no</td>\n",
       "    </tr>\n",
       "    <tr>\n",
       "      <th>2</th>\n",
       "      <td>NJ</td>\n",
       "      <td>area_code_415</td>\n",
       "      <td>no</td>\n",
       "      <td>0</td>\n",
       "      <td>no</td>\n",
       "      <td>12.2</td>\n",
       "      <td>5</td>\n",
       "      <td>3.29</td>\n",
       "      <td>243.4</td>\n",
       "      <td>114</td>\n",
       "      <td>41.38</td>\n",
       "      <td>121.2</td>\n",
       "      <td>110</td>\n",
       "      <td>10.30</td>\n",
       "      <td>162.6</td>\n",
       "      <td>104</td>\n",
       "      <td>7.32</td>\n",
       "      <td>0</td>\n",
       "      <td>no</td>\n",
       "    </tr>\n",
       "    <tr>\n",
       "      <th>3</th>\n",
       "      <td>OH</td>\n",
       "      <td>area_code_408</td>\n",
       "      <td>no</td>\n",
       "      <td>0</td>\n",
       "      <td>yes</td>\n",
       "      <td>6.6</td>\n",
       "      <td>7</td>\n",
       "      <td>1.78</td>\n",
       "      <td>299.4</td>\n",
       "      <td>71</td>\n",
       "      <td>50.90</td>\n",
       "      <td>61.9</td>\n",
       "      <td>88</td>\n",
       "      <td>5.26</td>\n",
       "      <td>196.9</td>\n",
       "      <td>89</td>\n",
       "      <td>8.86</td>\n",
       "      <td>2</td>\n",
       "      <td>no</td>\n",
       "    </tr>\n",
       "    <tr>\n",
       "      <th>4</th>\n",
       "      <td>OK</td>\n",
       "      <td>area_code_415</td>\n",
       "      <td>no</td>\n",
       "      <td>0</td>\n",
       "      <td>yes</td>\n",
       "      <td>10.1</td>\n",
       "      <td>3</td>\n",
       "      <td>2.73</td>\n",
       "      <td>166.7</td>\n",
       "      <td>113</td>\n",
       "      <td>28.34</td>\n",
       "      <td>148.3</td>\n",
       "      <td>122</td>\n",
       "      <td>12.61</td>\n",
       "      <td>186.9</td>\n",
       "      <td>121</td>\n",
       "      <td>8.41</td>\n",
       "      <td>3</td>\n",
       "      <td>no</td>\n",
       "    </tr>\n",
       "    <tr>\n",
       "      <th>...</th>\n",
       "      <td>...</td>\n",
       "      <td>...</td>\n",
       "      <td>...</td>\n",
       "      <td>...</td>\n",
       "      <td>...</td>\n",
       "      <td>...</td>\n",
       "      <td>...</td>\n",
       "      <td>...</td>\n",
       "      <td>...</td>\n",
       "      <td>...</td>\n",
       "      <td>...</td>\n",
       "      <td>...</td>\n",
       "      <td>...</td>\n",
       "      <td>...</td>\n",
       "      <td>...</td>\n",
       "      <td>...</td>\n",
       "      <td>...</td>\n",
       "      <td>...</td>\n",
       "      <td>...</td>\n",
       "    </tr>\n",
       "    <tr>\n",
       "      <th>4995</th>\n",
       "      <td>HI</td>\n",
       "      <td>area_code_408</td>\n",
       "      <td>yes</td>\n",
       "      <td>40</td>\n",
       "      <td>no</td>\n",
       "      <td>9.9</td>\n",
       "      <td>5</td>\n",
       "      <td>2.67</td>\n",
       "      <td>235.7</td>\n",
       "      <td>127</td>\n",
       "      <td>40.07</td>\n",
       "      <td>223.0</td>\n",
       "      <td>126</td>\n",
       "      <td>18.96</td>\n",
       "      <td>297.5</td>\n",
       "      <td>116</td>\n",
       "      <td>13.39</td>\n",
       "      <td>2</td>\n",
       "      <td>no</td>\n",
       "    </tr>\n",
       "    <tr>\n",
       "      <th>4996</th>\n",
       "      <td>WV</td>\n",
       "      <td>area_code_415</td>\n",
       "      <td>no</td>\n",
       "      <td>0</td>\n",
       "      <td>no</td>\n",
       "      <td>14.7</td>\n",
       "      <td>2</td>\n",
       "      <td>3.97</td>\n",
       "      <td>184.2</td>\n",
       "      <td>90</td>\n",
       "      <td>31.31</td>\n",
       "      <td>256.8</td>\n",
       "      <td>73</td>\n",
       "      <td>21.83</td>\n",
       "      <td>213.6</td>\n",
       "      <td>113</td>\n",
       "      <td>9.61</td>\n",
       "      <td>3</td>\n",
       "      <td>yes</td>\n",
       "    </tr>\n",
       "    <tr>\n",
       "      <th>4997</th>\n",
       "      <td>DC</td>\n",
       "      <td>area_code_415</td>\n",
       "      <td>no</td>\n",
       "      <td>0</td>\n",
       "      <td>no</td>\n",
       "      <td>13.6</td>\n",
       "      <td>4</td>\n",
       "      <td>3.67</td>\n",
       "      <td>140.6</td>\n",
       "      <td>89</td>\n",
       "      <td>23.90</td>\n",
       "      <td>172.8</td>\n",
       "      <td>128</td>\n",
       "      <td>14.69</td>\n",
       "      <td>212.4</td>\n",
       "      <td>97</td>\n",
       "      <td>9.56</td>\n",
       "      <td>1</td>\n",
       "      <td>no</td>\n",
       "    </tr>\n",
       "    <tr>\n",
       "      <th>4998</th>\n",
       "      <td>DC</td>\n",
       "      <td>area_code_510</td>\n",
       "      <td>no</td>\n",
       "      <td>0</td>\n",
       "      <td>no</td>\n",
       "      <td>8.5</td>\n",
       "      <td>6</td>\n",
       "      <td>2.30</td>\n",
       "      <td>188.8</td>\n",
       "      <td>67</td>\n",
       "      <td>32.10</td>\n",
       "      <td>171.7</td>\n",
       "      <td>92</td>\n",
       "      <td>14.59</td>\n",
       "      <td>224.4</td>\n",
       "      <td>89</td>\n",
       "      <td>10.10</td>\n",
       "      <td>0</td>\n",
       "      <td>no</td>\n",
       "    </tr>\n",
       "    <tr>\n",
       "      <th>4999</th>\n",
       "      <td>VT</td>\n",
       "      <td>area_code_415</td>\n",
       "      <td>yes</td>\n",
       "      <td>34</td>\n",
       "      <td>no</td>\n",
       "      <td>9.3</td>\n",
       "      <td>16</td>\n",
       "      <td>2.51</td>\n",
       "      <td>129.4</td>\n",
       "      <td>102</td>\n",
       "      <td>22.00</td>\n",
       "      <td>267.1</td>\n",
       "      <td>104</td>\n",
       "      <td>22.70</td>\n",
       "      <td>154.8</td>\n",
       "      <td>100</td>\n",
       "      <td>6.97</td>\n",
       "      <td>0</td>\n",
       "      <td>no</td>\n",
       "    </tr>\n",
       "  </tbody>\n",
       "</table>\n",
       "<p>5000 rows × 19 columns</p>\n",
       "</div>"
      ],
      "text/plain": [
       "     state      area.code voice.plan  voice.messages intl.plan  intl.mins  \\\n",
       "0       KS  area_code_415        yes              25        no       10.0   \n",
       "1       OH  area_code_415        yes              26        no       13.7   \n",
       "2       NJ  area_code_415         no               0        no       12.2   \n",
       "3       OH  area_code_408         no               0       yes        6.6   \n",
       "4       OK  area_code_415         no               0       yes       10.1   \n",
       "...    ...            ...        ...             ...       ...        ...   \n",
       "4995    HI  area_code_408        yes              40        no        9.9   \n",
       "4996    WV  area_code_415         no               0        no       14.7   \n",
       "4997    DC  area_code_415         no               0        no       13.6   \n",
       "4998    DC  area_code_510         no               0        no        8.5   \n",
       "4999    VT  area_code_415        yes              34        no        9.3   \n",
       "\n",
       "      intl.calls  intl.charge  day.mins  day.calls  day.charge  eve.mins  \\\n",
       "0              3         2.70     265.1        110       45.07     197.4   \n",
       "1              3         3.70     161.6        123       27.47     195.5   \n",
       "2              5         3.29     243.4        114       41.38     121.2   \n",
       "3              7         1.78     299.4         71       50.90      61.9   \n",
       "4              3         2.73     166.7        113       28.34     148.3   \n",
       "...          ...          ...       ...        ...         ...       ...   \n",
       "4995           5         2.67     235.7        127       40.07     223.0   \n",
       "4996           2         3.97     184.2         90       31.31     256.8   \n",
       "4997           4         3.67     140.6         89       23.90     172.8   \n",
       "4998           6         2.30     188.8         67       32.10     171.7   \n",
       "4999          16         2.51     129.4        102       22.00     267.1   \n",
       "\n",
       "      eve.calls  eve.charge  night.mins  night.calls  night.charge  \\\n",
       "0            99       16.78       244.7           91         11.01   \n",
       "1           103       16.62       254.4          103         11.45   \n",
       "2           110       10.30       162.6          104          7.32   \n",
       "3            88        5.26       196.9           89          8.86   \n",
       "4           122       12.61       186.9          121          8.41   \n",
       "...         ...         ...         ...          ...           ...   \n",
       "4995        126       18.96       297.5          116         13.39   \n",
       "4996         73       21.83       213.6          113          9.61   \n",
       "4997        128       14.69       212.4           97          9.56   \n",
       "4998         92       14.59       224.4           89         10.10   \n",
       "4999        104       22.70       154.8          100          6.97   \n",
       "\n",
       "     customer.calls churn  \n",
       "0                 1    no  \n",
       "1                 1    no  \n",
       "2                 0    no  \n",
       "3                 2    no  \n",
       "4                 3    no  \n",
       "...             ...   ...  \n",
       "4995              2    no  \n",
       "4996              3   yes  \n",
       "4997              1    no  \n",
       "4998              0    no  \n",
       "4999              0    no  \n",
       "\n",
       "[5000 rows x 19 columns]"
      ]
     },
     "execution_count": 34,
     "metadata": {},
     "output_type": "execute_result"
    }
   ],
   "source": [
    "df"
   ]
  },
  {
   "cell_type": "markdown",
   "id": "23115268",
   "metadata": {},
   "source": [
    "PERFORMING LABEL ENCODING"
   ]
  },
  {
   "cell_type": "code",
   "execution_count": 35,
   "id": "ba8ff3f2",
   "metadata": {},
   "outputs": [
    {
     "name": "stderr",
     "output_type": "stream",
     "text": [
      "C:\\Users\\Dell\\anaconda3\\lib\\site-packages\\sklearn\\preprocessing\\_label.py:115: DataConversionWarning: A column-vector y was passed when a 1d array was expected. Please change the shape of y to (n_samples, ), for example using ravel().\n",
      "  y = column_or_1d(y, warn=True)\n",
      "C:\\Users\\Dell\\anaconda3\\lib\\site-packages\\sklearn\\preprocessing\\_label.py:115: DataConversionWarning: A column-vector y was passed when a 1d array was expected. Please change the shape of y to (n_samples, ), for example using ravel().\n",
      "  y = column_or_1d(y, warn=True)\n",
      "C:\\Users\\Dell\\anaconda3\\lib\\site-packages\\sklearn\\preprocessing\\_label.py:115: DataConversionWarning: A column-vector y was passed when a 1d array was expected. Please change the shape of y to (n_samples, ), for example using ravel().\n",
      "  y = column_or_1d(y, warn=True)\n"
     ]
    }
   ],
   "source": [
    "from sklearn.preprocessing import LabelEncoder\n",
    "label = LabelEncoder()\n",
    "intl=label.fit_transform(df[['intl.plan']])\n",
    "voice_plan = label.fit_transform(df[['voice.plan']])\n",
    "Churn = label.fit_transform(df[['churn']])"
   ]
  },
  {
   "cell_type": "markdown",
   "id": "32512389",
   "metadata": {},
   "source": [
    "* encoding is to be performed in categorical datas"
   ]
  },
  {
   "cell_type": "code",
   "execution_count": 36,
   "id": "956d7414",
   "metadata": {},
   "outputs": [],
   "source": [
    "#appending to the datadrame\n",
    "df['intl.plan']= intl\n",
    "df['voice.plan'] = voice_plan\n",
    "df['churn']= Churn"
   ]
  },
  {
   "cell_type": "code",
   "execution_count": 37,
   "id": "41e68038",
   "metadata": {},
   "outputs": [
    {
     "data": {
      "text/html": [
       "<div>\n",
       "<style scoped>\n",
       "    .dataframe tbody tr th:only-of-type {\n",
       "        vertical-align: middle;\n",
       "    }\n",
       "\n",
       "    .dataframe tbody tr th {\n",
       "        vertical-align: top;\n",
       "    }\n",
       "\n",
       "    .dataframe thead th {\n",
       "        text-align: right;\n",
       "    }\n",
       "</style>\n",
       "<table border=\"1\" class=\"dataframe\">\n",
       "  <thead>\n",
       "    <tr style=\"text-align: right;\">\n",
       "      <th></th>\n",
       "      <th>state</th>\n",
       "      <th>area.code</th>\n",
       "      <th>voice.plan</th>\n",
       "      <th>voice.messages</th>\n",
       "      <th>intl.plan</th>\n",
       "      <th>intl.mins</th>\n",
       "      <th>intl.calls</th>\n",
       "      <th>intl.charge</th>\n",
       "      <th>day.mins</th>\n",
       "      <th>day.calls</th>\n",
       "      <th>day.charge</th>\n",
       "      <th>eve.mins</th>\n",
       "      <th>eve.calls</th>\n",
       "      <th>eve.charge</th>\n",
       "      <th>night.mins</th>\n",
       "      <th>night.calls</th>\n",
       "      <th>night.charge</th>\n",
       "      <th>customer.calls</th>\n",
       "      <th>churn</th>\n",
       "    </tr>\n",
       "  </thead>\n",
       "  <tbody>\n",
       "    <tr>\n",
       "      <th>0</th>\n",
       "      <td>KS</td>\n",
       "      <td>area_code_415</td>\n",
       "      <td>1</td>\n",
       "      <td>25</td>\n",
       "      <td>0</td>\n",
       "      <td>10.0</td>\n",
       "      <td>3</td>\n",
       "      <td>2.70</td>\n",
       "      <td>265.1</td>\n",
       "      <td>110</td>\n",
       "      <td>45.07</td>\n",
       "      <td>197.4</td>\n",
       "      <td>99</td>\n",
       "      <td>16.78</td>\n",
       "      <td>244.7</td>\n",
       "      <td>91</td>\n",
       "      <td>11.01</td>\n",
       "      <td>1</td>\n",
       "      <td>0</td>\n",
       "    </tr>\n",
       "    <tr>\n",
       "      <th>1</th>\n",
       "      <td>OH</td>\n",
       "      <td>area_code_415</td>\n",
       "      <td>1</td>\n",
       "      <td>26</td>\n",
       "      <td>0</td>\n",
       "      <td>13.7</td>\n",
       "      <td>3</td>\n",
       "      <td>3.70</td>\n",
       "      <td>161.6</td>\n",
       "      <td>123</td>\n",
       "      <td>27.47</td>\n",
       "      <td>195.5</td>\n",
       "      <td>103</td>\n",
       "      <td>16.62</td>\n",
       "      <td>254.4</td>\n",
       "      <td>103</td>\n",
       "      <td>11.45</td>\n",
       "      <td>1</td>\n",
       "      <td>0</td>\n",
       "    </tr>\n",
       "    <tr>\n",
       "      <th>2</th>\n",
       "      <td>NJ</td>\n",
       "      <td>area_code_415</td>\n",
       "      <td>0</td>\n",
       "      <td>0</td>\n",
       "      <td>0</td>\n",
       "      <td>12.2</td>\n",
       "      <td>5</td>\n",
       "      <td>3.29</td>\n",
       "      <td>243.4</td>\n",
       "      <td>114</td>\n",
       "      <td>41.38</td>\n",
       "      <td>121.2</td>\n",
       "      <td>110</td>\n",
       "      <td>10.30</td>\n",
       "      <td>162.6</td>\n",
       "      <td>104</td>\n",
       "      <td>7.32</td>\n",
       "      <td>0</td>\n",
       "      <td>0</td>\n",
       "    </tr>\n",
       "    <tr>\n",
       "      <th>3</th>\n",
       "      <td>OH</td>\n",
       "      <td>area_code_408</td>\n",
       "      <td>0</td>\n",
       "      <td>0</td>\n",
       "      <td>1</td>\n",
       "      <td>6.6</td>\n",
       "      <td>7</td>\n",
       "      <td>1.78</td>\n",
       "      <td>299.4</td>\n",
       "      <td>71</td>\n",
       "      <td>50.90</td>\n",
       "      <td>61.9</td>\n",
       "      <td>88</td>\n",
       "      <td>5.26</td>\n",
       "      <td>196.9</td>\n",
       "      <td>89</td>\n",
       "      <td>8.86</td>\n",
       "      <td>2</td>\n",
       "      <td>0</td>\n",
       "    </tr>\n",
       "    <tr>\n",
       "      <th>4</th>\n",
       "      <td>OK</td>\n",
       "      <td>area_code_415</td>\n",
       "      <td>0</td>\n",
       "      <td>0</td>\n",
       "      <td>1</td>\n",
       "      <td>10.1</td>\n",
       "      <td>3</td>\n",
       "      <td>2.73</td>\n",
       "      <td>166.7</td>\n",
       "      <td>113</td>\n",
       "      <td>28.34</td>\n",
       "      <td>148.3</td>\n",
       "      <td>122</td>\n",
       "      <td>12.61</td>\n",
       "      <td>186.9</td>\n",
       "      <td>121</td>\n",
       "      <td>8.41</td>\n",
       "      <td>3</td>\n",
       "      <td>0</td>\n",
       "    </tr>\n",
       "  </tbody>\n",
       "</table>\n",
       "</div>"
      ],
      "text/plain": [
       "  state      area.code  voice.plan  voice.messages  intl.plan  intl.mins  \\\n",
       "0    KS  area_code_415           1              25          0       10.0   \n",
       "1    OH  area_code_415           1              26          0       13.7   \n",
       "2    NJ  area_code_415           0               0          0       12.2   \n",
       "3    OH  area_code_408           0               0          1        6.6   \n",
       "4    OK  area_code_415           0               0          1       10.1   \n",
       "\n",
       "   intl.calls  intl.charge  day.mins  day.calls  day.charge  eve.mins  \\\n",
       "0           3         2.70     265.1        110       45.07     197.4   \n",
       "1           3         3.70     161.6        123       27.47     195.5   \n",
       "2           5         3.29     243.4        114       41.38     121.2   \n",
       "3           7         1.78     299.4         71       50.90      61.9   \n",
       "4           3         2.73     166.7        113       28.34     148.3   \n",
       "\n",
       "   eve.calls  eve.charge  night.mins  night.calls  night.charge  \\\n",
       "0         99       16.78       244.7           91         11.01   \n",
       "1        103       16.62       254.4          103         11.45   \n",
       "2        110       10.30       162.6          104          7.32   \n",
       "3         88        5.26       196.9           89          8.86   \n",
       "4        122       12.61       186.9          121          8.41   \n",
       "\n",
       "  customer.calls  churn  \n",
       "0              1      0  \n",
       "1              1      0  \n",
       "2              0      0  \n",
       "3              2      0  \n",
       "4              3      0  "
      ]
     },
     "execution_count": 37,
     "metadata": {},
     "output_type": "execute_result"
    }
   ],
   "source": [
    "df.head()"
   ]
  },
  {
   "cell_type": "markdown",
   "id": "1eaaf433",
   "metadata": {},
   "source": [
    "DECLARE FEATURE VECTOR AND TARGET VARIABLE"
   ]
  },
  {
   "cell_type": "code",
   "execution_count": 69,
   "id": "f088202c",
   "metadata": {},
   "outputs": [],
   "source": [
    "X = df.iloc[:, 2:-1]\n",
    "y = df.iloc[:,-1]"
   ]
  },
  {
   "cell_type": "markdown",
   "id": "6c123572",
   "metadata": {},
   "source": [
    "SPLITING DATA INTO TRAINING AND TESTING DATA SET"
   ]
  },
  {
   "cell_type": "code",
   "execution_count": 70,
   "id": "518bd1b9",
   "metadata": {},
   "outputs": [],
   "source": [
    "from sklearn.model_selection import train_test_split\n",
    "X_train, X_test, y_train, y_test = train_test_split(X, y, test_size = 0.3, random_state = 0)"
   ]
  },
  {
   "cell_type": "code",
   "execution_count": 68,
   "id": "d3c42690",
   "metadata": {},
   "outputs": [
    {
     "data": {
      "text/plain": [
       "((3500, 11), (1500, 11))"
      ]
     },
     "execution_count": 68,
     "metadata": {},
     "output_type": "execute_result"
    }
   ],
   "source": [
    "X_train.shape, X_test.shape"
   ]
  },
  {
   "cell_type": "code",
   "execution_count": 67,
   "id": "6216edb8",
   "metadata": {},
   "outputs": [
    {
     "name": "stdout",
     "output_type": "stream",
     "text": [
      "[[ 1.6647978  -0.31831052 -1.04622965 ... -0.93462702  0.15727282\n",
      "  -0.44133685]\n",
      " [-0.60067355 -0.31831052 -1.59150336 ...  0.35094091  0.9048349\n",
      "   0.32033917]\n",
      " [ 1.6647978  -0.31831052 -0.53730752 ...  0.90675411  1.15402226\n",
      "  -0.44133685]\n",
      " ...\n",
      " [-0.60067355  3.14158642  0.29877883 ... -0.87864584  0.15727282\n",
      "  -0.44133685]\n",
      " [-0.60067355 -0.31831052 -0.13744013 ... -2.19820235 -0.54045179\n",
      "   1.08201519]\n",
      " [-0.60067355  3.14158642  2.40717051 ... -1.45845097  1.15402226\n",
      "   2.60536722]]\n"
     ]
    }
   ],
   "source": [
    "print(X_train)"
   ]
  },
  {
   "cell_type": "code",
   "execution_count": 42,
   "id": "957a2157",
   "metadata": {},
   "outputs": [
    {
     "data": {
      "text/plain": [
       "voice.plan           int32\n",
       "voice.messages       int64\n",
       "intl.plan            int32\n",
       "intl.mins          float64\n",
       "intl.calls           int64\n",
       "intl.charge        float64\n",
       "day.mins           float64\n",
       "day.calls            int64\n",
       "day.charge         float64\n",
       "eve.mins           float64\n",
       "eve.calls            int64\n",
       "eve.charge         float64\n",
       "night.mins         float64\n",
       "night.calls          int64\n",
       "night.charge       float64\n",
       "customer.calls    category\n",
       "dtype: object"
      ]
     },
     "execution_count": 42,
     "metadata": {},
     "output_type": "execute_result"
    }
   ],
   "source": [
    "X_train.dtypes"
   ]
  },
  {
   "cell_type": "markdown",
   "id": "802f71f6",
   "metadata": {},
   "source": [
    "CHECKING CORRELATION OF EACH COLUMN"
   ]
  },
  {
   "cell_type": "code",
   "execution_count": 43,
   "id": "3e9ea39d",
   "metadata": {},
   "outputs": [
    {
     "data": {
      "text/html": [
       "<div>\n",
       "<style scoped>\n",
       "    .dataframe tbody tr th:only-of-type {\n",
       "        vertical-align: middle;\n",
       "    }\n",
       "\n",
       "    .dataframe tbody tr th {\n",
       "        vertical-align: top;\n",
       "    }\n",
       "\n",
       "    .dataframe thead th {\n",
       "        text-align: right;\n",
       "    }\n",
       "</style>\n",
       "<table border=\"1\" class=\"dataframe\">\n",
       "  <thead>\n",
       "    <tr style=\"text-align: right;\">\n",
       "      <th></th>\n",
       "      <th>voice.plan</th>\n",
       "      <th>voice.messages</th>\n",
       "      <th>intl.plan</th>\n",
       "      <th>intl.mins</th>\n",
       "      <th>intl.calls</th>\n",
       "      <th>intl.charge</th>\n",
       "      <th>day.mins</th>\n",
       "      <th>day.calls</th>\n",
       "      <th>day.charge</th>\n",
       "      <th>eve.mins</th>\n",
       "      <th>eve.calls</th>\n",
       "      <th>eve.charge</th>\n",
       "      <th>night.mins</th>\n",
       "      <th>night.calls</th>\n",
       "      <th>night.charge</th>\n",
       "    </tr>\n",
       "  </thead>\n",
       "  <tbody>\n",
       "    <tr>\n",
       "      <th>voice.plan</th>\n",
       "      <td>1.000000</td>\n",
       "      <td>0.953268</td>\n",
       "      <td>-0.003082</td>\n",
       "      <td>0.007679</td>\n",
       "      <td>0.004247</td>\n",
       "      <td>0.007702</td>\n",
       "      <td>0.006208</td>\n",
       "      <td>0.012580</td>\n",
       "      <td>0.006009</td>\n",
       "      <td>0.020965</td>\n",
       "      <td>0.009505</td>\n",
       "      <td>0.021255</td>\n",
       "      <td>0.004024</td>\n",
       "      <td>0.000500</td>\n",
       "      <td>0.004012</td>\n",
       "    </tr>\n",
       "    <tr>\n",
       "      <th>voice.messages</th>\n",
       "      <td>0.953268</td>\n",
       "      <td>1.000000</td>\n",
       "      <td>0.005713</td>\n",
       "      <td>0.004342</td>\n",
       "      <td>0.012843</td>\n",
       "      <td>0.004353</td>\n",
       "      <td>0.010373</td>\n",
       "      <td>0.018267</td>\n",
       "      <td>0.010183</td>\n",
       "      <td>0.015511</td>\n",
       "      <td>0.012338</td>\n",
       "      <td>0.016010</td>\n",
       "      <td>0.003826</td>\n",
       "      <td>-0.004561</td>\n",
       "      <td>0.003808</td>\n",
       "    </tr>\n",
       "    <tr>\n",
       "      <th>intl.plan</th>\n",
       "      <td>-0.003082</td>\n",
       "      <td>0.005713</td>\n",
       "      <td>1.000000</td>\n",
       "      <td>0.028157</td>\n",
       "      <td>-0.003264</td>\n",
       "      <td>0.028069</td>\n",
       "      <td>0.022011</td>\n",
       "      <td>0.006294</td>\n",
       "      <td>0.021914</td>\n",
       "      <td>0.031212</td>\n",
       "      <td>0.015294</td>\n",
       "      <td>0.033191</td>\n",
       "      <td>-0.029452</td>\n",
       "      <td>0.004934</td>\n",
       "      <td>-0.029450</td>\n",
       "    </tr>\n",
       "    <tr>\n",
       "      <th>intl.mins</th>\n",
       "      <td>0.007679</td>\n",
       "      <td>0.004342</td>\n",
       "      <td>0.028157</td>\n",
       "      <td>1.000000</td>\n",
       "      <td>0.014347</td>\n",
       "      <td>0.999993</td>\n",
       "      <td>-0.011766</td>\n",
       "      <td>0.011272</td>\n",
       "      <td>-0.011554</td>\n",
       "      <td>-0.014235</td>\n",
       "      <td>-0.008154</td>\n",
       "      <td>-0.013361</td>\n",
       "      <td>-0.002299</td>\n",
       "      <td>-0.009936</td>\n",
       "      <td>-0.002293</td>\n",
       "    </tr>\n",
       "    <tr>\n",
       "      <th>intl.calls</th>\n",
       "      <td>0.004247</td>\n",
       "      <td>0.012843</td>\n",
       "      <td>-0.003264</td>\n",
       "      <td>0.014347</td>\n",
       "      <td>1.000000</td>\n",
       "      <td>0.014426</td>\n",
       "      <td>-0.005315</td>\n",
       "      <td>-0.000039</td>\n",
       "      <td>-0.005462</td>\n",
       "      <td>0.017126</td>\n",
       "      <td>0.006685</td>\n",
       "      <td>0.017895</td>\n",
       "      <td>-0.010822</td>\n",
       "      <td>0.002039</td>\n",
       "      <td>-0.010783</td>\n",
       "    </tr>\n",
       "    <tr>\n",
       "      <th>intl.charge</th>\n",
       "      <td>0.007702</td>\n",
       "      <td>0.004353</td>\n",
       "      <td>0.028069</td>\n",
       "      <td>0.999993</td>\n",
       "      <td>0.014426</td>\n",
       "      <td>1.000000</td>\n",
       "      <td>-0.011683</td>\n",
       "      <td>0.011359</td>\n",
       "      <td>-0.011470</td>\n",
       "      <td>-0.014250</td>\n",
       "      <td>-0.008200</td>\n",
       "      <td>-0.013381</td>\n",
       "      <td>-0.002188</td>\n",
       "      <td>-0.009922</td>\n",
       "      <td>-0.002182</td>\n",
       "    </tr>\n",
       "    <tr>\n",
       "      <th>day.mins</th>\n",
       "      <td>0.006208</td>\n",
       "      <td>0.010373</td>\n",
       "      <td>0.022011</td>\n",
       "      <td>-0.011766</td>\n",
       "      <td>-0.005315</td>\n",
       "      <td>-0.011683</td>\n",
       "      <td>1.000000</td>\n",
       "      <td>0.009328</td>\n",
       "      <td>0.999797</td>\n",
       "      <td>-0.006149</td>\n",
       "      <td>0.006394</td>\n",
       "      <td>-0.006252</td>\n",
       "      <td>0.014376</td>\n",
       "      <td>0.005142</td>\n",
       "      <td>0.014366</td>\n",
       "    </tr>\n",
       "    <tr>\n",
       "      <th>day.calls</th>\n",
       "      <td>0.012580</td>\n",
       "      <td>0.018267</td>\n",
       "      <td>0.006294</td>\n",
       "      <td>0.011272</td>\n",
       "      <td>-0.000039</td>\n",
       "      <td>0.011359</td>\n",
       "      <td>0.009328</td>\n",
       "      <td>1.000000</td>\n",
       "      <td>0.009014</td>\n",
       "      <td>0.012955</td>\n",
       "      <td>-0.003843</td>\n",
       "      <td>0.013978</td>\n",
       "      <td>0.010782</td>\n",
       "      <td>-0.004077</td>\n",
       "      <td>0.010785</td>\n",
       "    </tr>\n",
       "    <tr>\n",
       "      <th>day.charge</th>\n",
       "      <td>0.006009</td>\n",
       "      <td>0.010183</td>\n",
       "      <td>0.021914</td>\n",
       "      <td>-0.011554</td>\n",
       "      <td>-0.005462</td>\n",
       "      <td>-0.011470</td>\n",
       "      <td>0.999797</td>\n",
       "      <td>0.009014</td>\n",
       "      <td>1.000000</td>\n",
       "      <td>-0.006528</td>\n",
       "      <td>0.006575</td>\n",
       "      <td>-0.006631</td>\n",
       "      <td>0.014002</td>\n",
       "      <td>0.004722</td>\n",
       "      <td>0.013991</td>\n",
       "    </tr>\n",
       "    <tr>\n",
       "      <th>eve.mins</th>\n",
       "      <td>0.020965</td>\n",
       "      <td>0.015511</td>\n",
       "      <td>0.031212</td>\n",
       "      <td>-0.014235</td>\n",
       "      <td>0.017126</td>\n",
       "      <td>-0.014250</td>\n",
       "      <td>-0.006149</td>\n",
       "      <td>0.012955</td>\n",
       "      <td>-0.006528</td>\n",
       "      <td>1.000000</td>\n",
       "      <td>0.005330</td>\n",
       "      <td>0.997378</td>\n",
       "      <td>-0.012729</td>\n",
       "      <td>0.003616</td>\n",
       "      <td>-0.012723</td>\n",
       "    </tr>\n",
       "    <tr>\n",
       "      <th>eve.calls</th>\n",
       "      <td>0.009505</td>\n",
       "      <td>0.012338</td>\n",
       "      <td>0.015294</td>\n",
       "      <td>-0.008154</td>\n",
       "      <td>0.006685</td>\n",
       "      <td>-0.008200</td>\n",
       "      <td>0.006394</td>\n",
       "      <td>-0.003843</td>\n",
       "      <td>0.006575</td>\n",
       "      <td>0.005330</td>\n",
       "      <td>1.000000</td>\n",
       "      <td>0.003732</td>\n",
       "      <td>-0.006097</td>\n",
       "      <td>0.005437</td>\n",
       "      <td>-0.006063</td>\n",
       "    </tr>\n",
       "    <tr>\n",
       "      <th>eve.charge</th>\n",
       "      <td>0.021255</td>\n",
       "      <td>0.016010</td>\n",
       "      <td>0.033191</td>\n",
       "      <td>-0.013361</td>\n",
       "      <td>0.017895</td>\n",
       "      <td>-0.013381</td>\n",
       "      <td>-0.006252</td>\n",
       "      <td>0.013978</td>\n",
       "      <td>-0.006631</td>\n",
       "      <td>0.997378</td>\n",
       "      <td>0.003732</td>\n",
       "      <td>1.000000</td>\n",
       "      <td>-0.014046</td>\n",
       "      <td>0.002447</td>\n",
       "      <td>-0.014042</td>\n",
       "    </tr>\n",
       "    <tr>\n",
       "      <th>night.mins</th>\n",
       "      <td>0.004024</td>\n",
       "      <td>0.003826</td>\n",
       "      <td>-0.029452</td>\n",
       "      <td>-0.002299</td>\n",
       "      <td>-0.010822</td>\n",
       "      <td>-0.002188</td>\n",
       "      <td>0.014376</td>\n",
       "      <td>0.010782</td>\n",
       "      <td>0.014002</td>\n",
       "      <td>-0.012729</td>\n",
       "      <td>-0.006097</td>\n",
       "      <td>-0.014046</td>\n",
       "      <td>1.000000</td>\n",
       "      <td>0.030445</td>\n",
       "      <td>0.999999</td>\n",
       "    </tr>\n",
       "    <tr>\n",
       "      <th>night.calls</th>\n",
       "      <td>0.000500</td>\n",
       "      <td>-0.004561</td>\n",
       "      <td>0.004934</td>\n",
       "      <td>-0.009936</td>\n",
       "      <td>0.002039</td>\n",
       "      <td>-0.009922</td>\n",
       "      <td>0.005142</td>\n",
       "      <td>-0.004077</td>\n",
       "      <td>0.004722</td>\n",
       "      <td>0.003616</td>\n",
       "      <td>0.005437</td>\n",
       "      <td>0.002447</td>\n",
       "      <td>0.030445</td>\n",
       "      <td>1.000000</td>\n",
       "      <td>0.030431</td>\n",
       "    </tr>\n",
       "    <tr>\n",
       "      <th>night.charge</th>\n",
       "      <td>0.004012</td>\n",
       "      <td>0.003808</td>\n",
       "      <td>-0.029450</td>\n",
       "      <td>-0.002293</td>\n",
       "      <td>-0.010783</td>\n",
       "      <td>-0.002182</td>\n",
       "      <td>0.014366</td>\n",
       "      <td>0.010785</td>\n",
       "      <td>0.013991</td>\n",
       "      <td>-0.012723</td>\n",
       "      <td>-0.006063</td>\n",
       "      <td>-0.014042</td>\n",
       "      <td>0.999999</td>\n",
       "      <td>0.030431</td>\n",
       "      <td>1.000000</td>\n",
       "    </tr>\n",
       "  </tbody>\n",
       "</table>\n",
       "</div>"
      ],
      "text/plain": [
       "                voice.plan  voice.messages  intl.plan  intl.mins  intl.calls  \\\n",
       "voice.plan        1.000000        0.953268  -0.003082   0.007679    0.004247   \n",
       "voice.messages    0.953268        1.000000   0.005713   0.004342    0.012843   \n",
       "intl.plan        -0.003082        0.005713   1.000000   0.028157   -0.003264   \n",
       "intl.mins         0.007679        0.004342   0.028157   1.000000    0.014347   \n",
       "intl.calls        0.004247        0.012843  -0.003264   0.014347    1.000000   \n",
       "intl.charge       0.007702        0.004353   0.028069   0.999993    0.014426   \n",
       "day.mins          0.006208        0.010373   0.022011  -0.011766   -0.005315   \n",
       "day.calls         0.012580        0.018267   0.006294   0.011272   -0.000039   \n",
       "day.charge        0.006009        0.010183   0.021914  -0.011554   -0.005462   \n",
       "eve.mins          0.020965        0.015511   0.031212  -0.014235    0.017126   \n",
       "eve.calls         0.009505        0.012338   0.015294  -0.008154    0.006685   \n",
       "eve.charge        0.021255        0.016010   0.033191  -0.013361    0.017895   \n",
       "night.mins        0.004024        0.003826  -0.029452  -0.002299   -0.010822   \n",
       "night.calls       0.000500       -0.004561   0.004934  -0.009936    0.002039   \n",
       "night.charge      0.004012        0.003808  -0.029450  -0.002293   -0.010783   \n",
       "\n",
       "                intl.charge  day.mins  day.calls  day.charge  eve.mins  \\\n",
       "voice.plan         0.007702  0.006208   0.012580    0.006009  0.020965   \n",
       "voice.messages     0.004353  0.010373   0.018267    0.010183  0.015511   \n",
       "intl.plan          0.028069  0.022011   0.006294    0.021914  0.031212   \n",
       "intl.mins          0.999993 -0.011766   0.011272   -0.011554 -0.014235   \n",
       "intl.calls         0.014426 -0.005315  -0.000039   -0.005462  0.017126   \n",
       "intl.charge        1.000000 -0.011683   0.011359   -0.011470 -0.014250   \n",
       "day.mins          -0.011683  1.000000   0.009328    0.999797 -0.006149   \n",
       "day.calls          0.011359  0.009328   1.000000    0.009014  0.012955   \n",
       "day.charge        -0.011470  0.999797   0.009014    1.000000 -0.006528   \n",
       "eve.mins          -0.014250 -0.006149   0.012955   -0.006528  1.000000   \n",
       "eve.calls         -0.008200  0.006394  -0.003843    0.006575  0.005330   \n",
       "eve.charge        -0.013381 -0.006252   0.013978   -0.006631  0.997378   \n",
       "night.mins        -0.002188  0.014376   0.010782    0.014002 -0.012729   \n",
       "night.calls       -0.009922  0.005142  -0.004077    0.004722  0.003616   \n",
       "night.charge      -0.002182  0.014366   0.010785    0.013991 -0.012723   \n",
       "\n",
       "                eve.calls  eve.charge  night.mins  night.calls  night.charge  \n",
       "voice.plan       0.009505    0.021255    0.004024     0.000500      0.004012  \n",
       "voice.messages   0.012338    0.016010    0.003826    -0.004561      0.003808  \n",
       "intl.plan        0.015294    0.033191   -0.029452     0.004934     -0.029450  \n",
       "intl.mins       -0.008154   -0.013361   -0.002299    -0.009936     -0.002293  \n",
       "intl.calls       0.006685    0.017895   -0.010822     0.002039     -0.010783  \n",
       "intl.charge     -0.008200   -0.013381   -0.002188    -0.009922     -0.002182  \n",
       "day.mins         0.006394   -0.006252    0.014376     0.005142      0.014366  \n",
       "day.calls       -0.003843    0.013978    0.010782    -0.004077      0.010785  \n",
       "day.charge       0.006575   -0.006631    0.014002     0.004722      0.013991  \n",
       "eve.mins         0.005330    0.997378   -0.012729     0.003616     -0.012723  \n",
       "eve.calls        1.000000    0.003732   -0.006097     0.005437     -0.006063  \n",
       "eve.charge       0.003732    1.000000   -0.014046     0.002447     -0.014042  \n",
       "night.mins      -0.006097   -0.014046    1.000000     0.030445      0.999999  \n",
       "night.calls      0.005437    0.002447    0.030445     1.000000      0.030431  \n",
       "night.charge    -0.006063   -0.014042    0.999999     0.030431      1.000000  "
      ]
     },
     "execution_count": 43,
     "metadata": {},
     "output_type": "execute_result"
    }
   ],
   "source": [
    "X_corr = X_train.corr()\n",
    "X_corr"
   ]
  },
  {
   "cell_type": "code",
   "execution_count": 44,
   "id": "d7e28379",
   "metadata": {},
   "outputs": [],
   "source": [
    "def correlation(dataframe, threshold):\n",
    "    correlated_cols = set()\n",
    "    corr_matrix = df.corr()\n",
    "    for i in range(len(corr_matrix)):\n",
    "        for j in range(i):\n",
    "            if abs(corr_matrix.iloc[i,j]) > threshold:\n",
    "                colname = corr_matrix.columns[i]\n",
    "                correlated_cols.add(colname)\n",
    "    return correlated_cols"
   ]
  },
  {
   "cell_type": "code",
   "execution_count": 72,
   "id": "a60f41b0",
   "metadata": {},
   "outputs": [],
   "source": [
    "corr_feature = correlation(X_train, 0.6)"
   ]
  },
  {
   "cell_type": "code",
   "execution_count": 73,
   "id": "9aa281fb",
   "metadata": {},
   "outputs": [
    {
     "data": {
      "text/plain": [
       "{'day.charge', 'eve.charge', 'intl.charge', 'night.charge', 'voice.messages'}"
      ]
     },
     "execution_count": 73,
     "metadata": {},
     "output_type": "execute_result"
    }
   ],
   "source": [
    "corr_feature"
   ]
  },
  {
   "cell_type": "code",
   "execution_count": 64,
   "id": "a9158ca2",
   "metadata": {},
   "outputs": [
    {
     "data": {
      "text/plain": [
       "((3500, 11), (1500, 11))"
      ]
     },
     "execution_count": 64,
     "metadata": {},
     "output_type": "execute_result"
    }
   ],
   "source": [
    "X_train.shape, X_test.shape"
   ]
  },
  {
   "cell_type": "code",
   "execution_count": 71,
   "id": "a31b661f",
   "metadata": {},
   "outputs": [],
   "source": [
    "X_train.drop(labels = corr_feature, axis= 1, inplace =True)\n",
    "X_test.drop(labels= corr_feature, axis = 1, inplace = True)"
   ]
  },
  {
   "cell_type": "markdown",
   "id": "22e77972",
   "metadata": {},
   "source": [
    "PERFORMING STANDARDIZATION"
   ]
  },
  {
   "cell_type": "code",
   "execution_count": 48,
   "id": "aa2f2c9a",
   "metadata": {},
   "outputs": [],
   "source": [
    "from sklearn.preprocessing import StandardScaler\n",
    "sc = StandardScaler()\n",
    "X_train = sc.fit_transform(X_train)\n",
    "X_test = sc.transform(X_test)"
   ]
  },
  {
   "cell_type": "markdown",
   "id": "801cf285",
   "metadata": {},
   "source": [
    "* To make data unitless or scale free, standardization is performed.\n",
    "\n",
    "* Difference between Standardization and Normalization is Normalization scales in a range of [0,1] or [-1,1]. Standardization is not bounded by range."
   ]
  },
  {
   "cell_type": "markdown",
   "id": "428baa5c",
   "metadata": {},
   "source": [
    "# DECISION TREE"
   ]
  },
  {
   "cell_type": "code",
   "execution_count": 49,
   "id": "b8d82391",
   "metadata": {},
   "outputs": [
    {
     "data": {
      "text/plain": [
       "DecisionTreeClassifier(criterion='entropy', random_state=0)"
      ]
     },
     "execution_count": 49,
     "metadata": {},
     "output_type": "execute_result"
    }
   ],
   "source": [
    "from sklearn.tree import DecisionTreeClassifier\n",
    "classifier1 = DecisionTreeClassifier(criterion = 'entropy', random_state =0)\n",
    "classifier1.fit(X_train, y_train)"
   ]
  },
  {
   "cell_type": "markdown",
   "id": "96f270c1",
   "metadata": {},
   "source": [
    "PREDICTING A NEW RESULT"
   ]
  },
  {
   "cell_type": "code",
   "execution_count": 50,
   "id": "54f019ec",
   "metadata": {},
   "outputs": [],
   "source": [
    "y_pred1 = classifier1.predict(X_test)"
   ]
  },
  {
   "cell_type": "code",
   "execution_count": 51,
   "id": "265005a9",
   "metadata": {},
   "outputs": [
    {
     "data": {
      "text/plain": [
       "array([0, 0, 0, ..., 0, 0, 0])"
      ]
     },
     "execution_count": 51,
     "metadata": {},
     "output_type": "execute_result"
    }
   ],
   "source": [
    "y_pred1"
   ]
  },
  {
   "cell_type": "markdown",
   "id": "ec22fe84",
   "metadata": {},
   "source": [
    "CONFUSION MATRIX"
   ]
  },
  {
   "cell_type": "code",
   "execution_count": 52,
   "id": "dacc01f9",
   "metadata": {},
   "outputs": [
    {
     "name": "stdout",
     "output_type": "stream",
     "text": [
      "[[1234   64]\n",
      " [  46  156]]\n"
     ]
    },
    {
     "data": {
      "text/plain": [
       "0.9266666666666666"
      ]
     },
     "execution_count": 52,
     "metadata": {},
     "output_type": "execute_result"
    }
   ],
   "source": [
    "from sklearn.metrics import confusion_matrix, accuracy_score\n",
    "cm1 = confusion_matrix(y_test, y_pred1)\n",
    "print(cm1)\n",
    "accuracy_score(y_test, y_pred1)"
   ]
  },
  {
   "cell_type": "markdown",
   "id": "cecbf603",
   "metadata": {},
   "source": [
    "# KNN"
   ]
  },
  {
   "cell_type": "code",
   "execution_count": 53,
   "id": "f9864686",
   "metadata": {},
   "outputs": [
    {
     "data": {
      "text/plain": [
       "KNeighborsClassifier(n_neighbors=3)"
      ]
     },
     "execution_count": 53,
     "metadata": {},
     "output_type": "execute_result"
    }
   ],
   "source": [
    "from sklearn.neighbors import KNeighborsClassifier\n",
    "classifier2 =KNeighborsClassifier(n_neighbors = 3)\n",
    "classifier2.fit(X_train, y_train)"
   ]
  },
  {
   "cell_type": "code",
   "execution_count": 54,
   "id": "27c5802d",
   "metadata": {},
   "outputs": [
    {
     "name": "stdout",
     "output_type": "stream",
     "text": [
      "Train score is: 0.9408571428571428\n",
      "Test score is: 0.892\n"
     ]
    }
   ],
   "source": [
    "print('Train score is:', classifier2.score(X_train, y_train))\n",
    "print('Test score is:', classifier2.score(X_test, y_test))"
   ]
  },
  {
   "cell_type": "markdown",
   "id": "ab48ed1c",
   "metadata": {},
   "source": [
    "CONFUSION MATRIX"
   ]
  },
  {
   "cell_type": "code",
   "execution_count": 55,
   "id": "e8022f00",
   "metadata": {},
   "outputs": [
    {
     "data": {
      "text/plain": [
       "array([0, 0, 0, ..., 0, 0, 0])"
      ]
     },
     "execution_count": 55,
     "metadata": {},
     "output_type": "execute_result"
    }
   ],
   "source": [
    "y_pred2 = classifier2.predict(X_test)\n",
    "y_pred2"
   ]
  },
  {
   "cell_type": "code",
   "execution_count": 56,
   "id": "a2804876",
   "metadata": {},
   "outputs": [
    {
     "name": "stdout",
     "output_type": "stream",
     "text": [
      "[[1266   32]\n",
      " [ 130   72]]\n"
     ]
    },
    {
     "data": {
      "text/plain": [
       "0.892"
      ]
     },
     "execution_count": 56,
     "metadata": {},
     "output_type": "execute_result"
    }
   ],
   "source": [
    "cm2 = confusion_matrix(y_test, y_pred2)\n",
    "print(cm2)\n",
    "accuracy_score(y_test, y_pred2)"
   ]
  },
  {
   "cell_type": "markdown",
   "id": "225202c8",
   "metadata": {},
   "source": [
    "# Logistic Regression"
   ]
  },
  {
   "cell_type": "code",
   "execution_count": 57,
   "id": "e296541e",
   "metadata": {},
   "outputs": [
    {
     "data": {
      "text/plain": [
       "LogisticRegression()"
      ]
     },
     "execution_count": 57,
     "metadata": {},
     "output_type": "execute_result"
    }
   ],
   "source": [
    "from sklearn.linear_model import LogisticRegression\n",
    "classifier3 = LogisticRegression()\n",
    "classifier3.fit(X_train, y_train)"
   ]
  },
  {
   "cell_type": "code",
   "execution_count": 58,
   "id": "660d3755",
   "metadata": {},
   "outputs": [
    {
     "data": {
      "text/plain": [
       "array([0, 0, 0, ..., 0, 0, 0])"
      ]
     },
     "execution_count": 58,
     "metadata": {},
     "output_type": "execute_result"
    }
   ],
   "source": [
    "y_pred3 = classifier3.predict(X_test)\n",
    "y_pred3"
   ]
  },
  {
   "cell_type": "code",
   "execution_count": 59,
   "id": "217bc4de",
   "metadata": {},
   "outputs": [
    {
     "name": "stdout",
     "output_type": "stream",
     "text": [
      "[[1264   34]\n",
      " [ 162   40]]\n"
     ]
    },
    {
     "data": {
      "text/plain": [
       "0.8693333333333333"
      ]
     },
     "execution_count": 59,
     "metadata": {},
     "output_type": "execute_result"
    }
   ],
   "source": [
    "cm3 = confusion_matrix(y_test, y_pred3)\n",
    "print(cm3)\n",
    "accuracy_score(y_test, y_pred3)"
   ]
  },
  {
   "cell_type": "markdown",
   "id": "99968f0f",
   "metadata": {},
   "source": [
    "# Naive bayes"
   ]
  },
  {
   "cell_type": "code",
   "execution_count": 60,
   "id": "fc132512",
   "metadata": {
    "scrolled": true
   },
   "outputs": [
    {
     "data": {
      "text/plain": [
       "BernoulliNB()"
      ]
     },
     "execution_count": 60,
     "metadata": {},
     "output_type": "execute_result"
    }
   ],
   "source": [
    "from sklearn.naive_bayes import BernoulliNB\n",
    "classifier4 =  BernoulliNB()\n",
    "classifier4.fit(X_train, y_train)"
   ]
  },
  {
   "cell_type": "code",
   "execution_count": 61,
   "id": "a5380bf2",
   "metadata": {},
   "outputs": [
    {
     "data": {
      "text/plain": [
       "array([0, 0, 0, ..., 0, 0, 0])"
      ]
     },
     "execution_count": 61,
     "metadata": {},
     "output_type": "execute_result"
    }
   ],
   "source": [
    "y_pred4 = classifier4.predict(X_test)\n",
    "y_pred4"
   ]
  },
  {
   "cell_type": "code",
   "execution_count": 62,
   "id": "1976f334",
   "metadata": {},
   "outputs": [
    {
     "name": "stdout",
     "output_type": "stream",
     "text": [
      "[[1288   10]\n",
      " [ 190   12]]\n"
     ]
    },
    {
     "data": {
      "text/plain": [
       "0.8666666666666667"
      ]
     },
     "execution_count": 62,
     "metadata": {},
     "output_type": "execute_result"
    }
   ],
   "source": [
    "cm4 = confusion_matrix(y_test, y_pred4)\n",
    "print(cm4)\n",
    "accuracy_score(y_test,y_pred4)"
   ]
  },
  {
   "cell_type": "markdown",
   "id": "c469f72b",
   "metadata": {},
   "source": [
    "* out of the all 4 models, Decision tree is to be chosen as it has high accuracy score of 0.926"
   ]
  },
  {
   "cell_type": "code",
   "execution_count": null,
   "id": "5b2adf93",
   "metadata": {},
   "outputs": [],
   "source": []
  },
  {
   "cell_type": "code",
   "execution_count": null,
   "id": "fa7a0e06",
   "metadata": {},
   "outputs": [],
   "source": []
  },
  {
   "cell_type": "code",
   "execution_count": null,
   "id": "897ef599",
   "metadata": {},
   "outputs": [],
   "source": []
  },
  {
   "cell_type": "code",
   "execution_count": null,
   "id": "221f33b5",
   "metadata": {},
   "outputs": [],
   "source": []
  },
  {
   "cell_type": "code",
   "execution_count": null,
   "id": "852a73c5",
   "metadata": {},
   "outputs": [],
   "source": []
  },
  {
   "cell_type": "code",
   "execution_count": null,
   "id": "fe7fbec8",
   "metadata": {},
   "outputs": [],
   "source": []
  },
  {
   "cell_type": "code",
   "execution_count": null,
   "id": "10d9de35",
   "metadata": {},
   "outputs": [],
   "source": []
  },
  {
   "cell_type": "code",
   "execution_count": null,
   "id": "801f1cb7",
   "metadata": {},
   "outputs": [],
   "source": []
  },
  {
   "cell_type": "code",
   "execution_count": null,
   "id": "88fda432",
   "metadata": {},
   "outputs": [],
   "source": []
  },
  {
   "cell_type": "code",
   "execution_count": null,
   "id": "ffe3c91c",
   "metadata": {},
   "outputs": [],
   "source": []
  },
  {
   "cell_type": "code",
   "execution_count": null,
   "id": "51212a81",
   "metadata": {},
   "outputs": [],
   "source": []
  },
  {
   "cell_type": "code",
   "execution_count": null,
   "id": "12be6538",
   "metadata": {},
   "outputs": [],
   "source": []
  },
  {
   "cell_type": "code",
   "execution_count": null,
   "id": "82398dfb",
   "metadata": {},
   "outputs": [],
   "source": []
  }
 ],
 "metadata": {
  "kernelspec": {
   "display_name": "Python 3 (ipykernel)",
   "language": "python",
   "name": "python3"
  },
  "language_info": {
   "codemirror_mode": {
    "name": "ipython",
    "version": 3
   },
   "file_extension": ".py",
   "mimetype": "text/x-python",
   "name": "python",
   "nbconvert_exporter": "python",
   "pygments_lexer": "ipython3",
   "version": "3.9.12"
  }
 },
 "nbformat": 4,
 "nbformat_minor": 5
}
